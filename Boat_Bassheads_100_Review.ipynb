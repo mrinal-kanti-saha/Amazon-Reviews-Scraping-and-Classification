{
  "nbformat": 4,
  "nbformat_minor": 0,
  "metadata": {
    "colab": {
      "provenance": [],
      "collapsed_sections": []
    },
    "kernelspec": {
      "name": "python3",
      "display_name": "Python 3"
    },
    "language_info": {
      "name": "python"
    }
  },
  "cells": [
    {
      "cell_type": "markdown",
      "source": [
        "# Reviews Classification for the Amazon Product - Boat BassHeads 100\n",
        "The reviews used here were scraped using the code available at https://github.com/mrinal069/Amazon-Reviews-Scraping-and-Classification/blob/main/Amazon_Reviews_Scraper.ipynb."
      ],
      "metadata": {
        "id": "3pbd1pBWhGie"
      }
    },
    {
      "cell_type": "code",
      "execution_count": null,
      "metadata": {
        "id": "6kWUraP_Pn5O"
      },
      "outputs": [],
      "source": [
        "import numpy as np\n",
        "import pandas as pd"
      ]
    },
    {
      "cell_type": "markdown",
      "source": [
        "### Loading the data"
      ],
      "metadata": {
        "id": "fSCPVFvYejUF"
      }
    },
    {
      "cell_type": "code",
      "source": [
        "df = pd.read_csv('Reviews.csv')"
      ],
      "metadata": {
        "id": "-Q73vC8OPx7v"
      },
      "execution_count": null,
      "outputs": []
    },
    {
      "cell_type": "code",
      "source": [
        "df"
      ],
      "metadata": {
        "colab": {
          "base_uri": "https://localhost:8080/",
          "height": 572
        },
        "id": "FZ3BFCTrP6OP",
        "outputId": "b3550790-655c-40df-8f2c-fe08fd6bee35"
      },
      "execution_count": null,
      "outputs": [
        {
          "output_type": "execute_result",
          "data": {
            "text/plain": [
              "                   Name  Ratings  \\\n",
              "0       Amazon Customer        4   \n",
              "1           Ankit Bisht        4   \n",
              "2           AMIR ANSARI        4   \n",
              "3       Pratyush Sharma        4   \n",
              "4            Arsalan A.        4   \n",
              "...                 ...      ...   \n",
              "4995       Aakriti Jain        2   \n",
              "4996          Mithilesh        5   \n",
              "4997    Pankaj Bawdekar        5   \n",
              "4998  prashant varadkar        4   \n",
              "4999            Sunaina        5   \n",
              "\n",
              "                                                 Header               Date  \\\n",
              "0                                     Good for One Year     7 October 2022   \n",
              "1                                  Better than expected     8 October 2022   \n",
              "2                         Product packaging is too old.     6 October 2022   \n",
              "3                                    Issue with comfort  14 September 2022   \n",
              "4                               Superb quality earphone     8 October 2022   \n",
              "...                                                 ...                ...   \n",
              "4995                           Received damaged product      13 April 2022   \n",
              "4996  Good build quality, sound quality and enduranc...   20 December 2020   \n",
              "4997                   Better product at low price rate       11 July 2021   \n",
              "4998                          Compare to price it worth       22 July 2021   \n",
              "4999                                            Durable   3 September 2021   \n",
              "\n",
              "                                        Product_Details  \\\n",
              "0                         Colour: BlackStyle name: 2020   \n",
              "1                         Colour: BlackStyle name: 2020   \n",
              "2                         Colour: BlackStyle name: 2020   \n",
              "3                         Colour: BlackStyle name: 2020   \n",
              "4                   Colour: Furious RedStyle name: 2020   \n",
              "...                                                 ...   \n",
              "4995                      Colour: BlackStyle name: 2020   \n",
              "4996                      Colour: BlackStyle name: 2020   \n",
              "4997                      Colour: BlackStyle name: 2020   \n",
              "4998  Colour: Courageous OrangeStyle name: Made in I...   \n",
              "4999                      Colour: BlackStyle name: 2020   \n",
              "\n",
              "                                                 Review  \\\n",
              "0     Able to use exactly One year after that, only ...   \n",
              "1     It's been 2 month since I bought these earphon...   \n",
              "2     As per online pic model is changed. It is Refu...   \n",
              "3     I'll say product is fine 🙂 and all.I been usin...   \n",
              "4     Noise cancellation is not that good but overal...   \n",
              "...                                                 ...   \n",
              "4995  Received used headphones even after replacemen...   \n",
              "4996  For the price range it is an Excellent product...   \n",
              "4997  If your only purpose is to listen songs then i...   \n",
              "4998                                 Sound quality good   \n",
              "4999  Durable Best earphones, good quality but the v...   \n",
              "\n",
              "                            Helpful  \n",
              "0       2 people found this helpful  \n",
              "1     One person found this helpful  \n",
              "2                               NaN  \n",
              "3       4 people found this helpful  \n",
              "4                               NaN  \n",
              "...                             ...  \n",
              "4995                            NaN  \n",
              "4996                            NaN  \n",
              "4997                            NaN  \n",
              "4998                            NaN  \n",
              "4999                            NaN  \n",
              "\n",
              "[5000 rows x 7 columns]"
            ],
            "text/html": [
              "\n",
              "  <div id=\"df-5d55f4f3-1413-4be7-871b-723cd09e4f6e\">\n",
              "    <div class=\"colab-df-container\">\n",
              "      <div>\n",
              "<style scoped>\n",
              "    .dataframe tbody tr th:only-of-type {\n",
              "        vertical-align: middle;\n",
              "    }\n",
              "\n",
              "    .dataframe tbody tr th {\n",
              "        vertical-align: top;\n",
              "    }\n",
              "\n",
              "    .dataframe thead th {\n",
              "        text-align: right;\n",
              "    }\n",
              "</style>\n",
              "<table border=\"1\" class=\"dataframe\">\n",
              "  <thead>\n",
              "    <tr style=\"text-align: right;\">\n",
              "      <th></th>\n",
              "      <th>Name</th>\n",
              "      <th>Ratings</th>\n",
              "      <th>Header</th>\n",
              "      <th>Date</th>\n",
              "      <th>Product_Details</th>\n",
              "      <th>Review</th>\n",
              "      <th>Helpful</th>\n",
              "    </tr>\n",
              "  </thead>\n",
              "  <tbody>\n",
              "    <tr>\n",
              "      <th>0</th>\n",
              "      <td>Amazon Customer</td>\n",
              "      <td>4</td>\n",
              "      <td>Good for One Year</td>\n",
              "      <td>7 October 2022</td>\n",
              "      <td>Colour: BlackStyle name: 2020</td>\n",
              "      <td>Able to use exactly One year after that, only ...</td>\n",
              "      <td>2 people found this helpful</td>\n",
              "    </tr>\n",
              "    <tr>\n",
              "      <th>1</th>\n",
              "      <td>Ankit Bisht</td>\n",
              "      <td>4</td>\n",
              "      <td>Better than expected</td>\n",
              "      <td>8 October 2022</td>\n",
              "      <td>Colour: BlackStyle name: 2020</td>\n",
              "      <td>It's been 2 month since I bought these earphon...</td>\n",
              "      <td>One person found this helpful</td>\n",
              "    </tr>\n",
              "    <tr>\n",
              "      <th>2</th>\n",
              "      <td>AMIR ANSARI</td>\n",
              "      <td>4</td>\n",
              "      <td>Product packaging is too old.</td>\n",
              "      <td>6 October 2022</td>\n",
              "      <td>Colour: BlackStyle name: 2020</td>\n",
              "      <td>As per online pic model is changed. It is Refu...</td>\n",
              "      <td>NaN</td>\n",
              "    </tr>\n",
              "    <tr>\n",
              "      <th>3</th>\n",
              "      <td>Pratyush Sharma</td>\n",
              "      <td>4</td>\n",
              "      <td>Issue with comfort</td>\n",
              "      <td>14 September 2022</td>\n",
              "      <td>Colour: BlackStyle name: 2020</td>\n",
              "      <td>I'll say product is fine 🙂 and all.I been usin...</td>\n",
              "      <td>4 people found this helpful</td>\n",
              "    </tr>\n",
              "    <tr>\n",
              "      <th>4</th>\n",
              "      <td>Arsalan A.</td>\n",
              "      <td>4</td>\n",
              "      <td>Superb quality earphone</td>\n",
              "      <td>8 October 2022</td>\n",
              "      <td>Colour: Furious RedStyle name: 2020</td>\n",
              "      <td>Noise cancellation is not that good but overal...</td>\n",
              "      <td>NaN</td>\n",
              "    </tr>\n",
              "    <tr>\n",
              "      <th>...</th>\n",
              "      <td>...</td>\n",
              "      <td>...</td>\n",
              "      <td>...</td>\n",
              "      <td>...</td>\n",
              "      <td>...</td>\n",
              "      <td>...</td>\n",
              "      <td>...</td>\n",
              "    </tr>\n",
              "    <tr>\n",
              "      <th>4995</th>\n",
              "      <td>Aakriti Jain</td>\n",
              "      <td>2</td>\n",
              "      <td>Received damaged product</td>\n",
              "      <td>13 April 2022</td>\n",
              "      <td>Colour: BlackStyle name: 2020</td>\n",
              "      <td>Received used headphones even after replacemen...</td>\n",
              "      <td>NaN</td>\n",
              "    </tr>\n",
              "    <tr>\n",
              "      <th>4996</th>\n",
              "      <td>Mithilesh</td>\n",
              "      <td>5</td>\n",
              "      <td>Good build quality, sound quality and enduranc...</td>\n",
              "      <td>20 December 2020</td>\n",
              "      <td>Colour: BlackStyle name: 2020</td>\n",
              "      <td>For the price range it is an Excellent product...</td>\n",
              "      <td>NaN</td>\n",
              "    </tr>\n",
              "    <tr>\n",
              "      <th>4997</th>\n",
              "      <td>Pankaj Bawdekar</td>\n",
              "      <td>5</td>\n",
              "      <td>Better product at low price rate</td>\n",
              "      <td>11 July 2021</td>\n",
              "      <td>Colour: BlackStyle name: 2020</td>\n",
              "      <td>If your only purpose is to listen songs then i...</td>\n",
              "      <td>NaN</td>\n",
              "    </tr>\n",
              "    <tr>\n",
              "      <th>4998</th>\n",
              "      <td>prashant varadkar</td>\n",
              "      <td>4</td>\n",
              "      <td>Compare to price it worth</td>\n",
              "      <td>22 July 2021</td>\n",
              "      <td>Colour: Courageous OrangeStyle name: Made in I...</td>\n",
              "      <td>Sound quality good</td>\n",
              "      <td>NaN</td>\n",
              "    </tr>\n",
              "    <tr>\n",
              "      <th>4999</th>\n",
              "      <td>Sunaina</td>\n",
              "      <td>5</td>\n",
              "      <td>Durable</td>\n",
              "      <td>3 September 2021</td>\n",
              "      <td>Colour: BlackStyle name: 2020</td>\n",
              "      <td>Durable Best earphones, good quality but the v...</td>\n",
              "      <td>NaN</td>\n",
              "    </tr>\n",
              "  </tbody>\n",
              "</table>\n",
              "<p>5000 rows × 7 columns</p>\n",
              "</div>\n",
              "      <button class=\"colab-df-convert\" onclick=\"convertToInteractive('df-5d55f4f3-1413-4be7-871b-723cd09e4f6e')\"\n",
              "              title=\"Convert this dataframe to an interactive table.\"\n",
              "              style=\"display:none;\">\n",
              "        \n",
              "  <svg xmlns=\"http://www.w3.org/2000/svg\" height=\"24px\"viewBox=\"0 0 24 24\"\n",
              "       width=\"24px\">\n",
              "    <path d=\"M0 0h24v24H0V0z\" fill=\"none\"/>\n",
              "    <path d=\"M18.56 5.44l.94 2.06.94-2.06 2.06-.94-2.06-.94-.94-2.06-.94 2.06-2.06.94zm-11 1L8.5 8.5l.94-2.06 2.06-.94-2.06-.94L8.5 2.5l-.94 2.06-2.06.94zm10 10l.94 2.06.94-2.06 2.06-.94-2.06-.94-.94-2.06-.94 2.06-2.06.94z\"/><path d=\"M17.41 7.96l-1.37-1.37c-.4-.4-.92-.59-1.43-.59-.52 0-1.04.2-1.43.59L10.3 9.45l-7.72 7.72c-.78.78-.78 2.05 0 2.83L4 21.41c.39.39.9.59 1.41.59.51 0 1.02-.2 1.41-.59l7.78-7.78 2.81-2.81c.8-.78.8-2.07 0-2.86zM5.41 20L4 18.59l7.72-7.72 1.47 1.35L5.41 20z\"/>\n",
              "  </svg>\n",
              "      </button>\n",
              "      \n",
              "  <style>\n",
              "    .colab-df-container {\n",
              "      display:flex;\n",
              "      flex-wrap:wrap;\n",
              "      gap: 12px;\n",
              "    }\n",
              "\n",
              "    .colab-df-convert {\n",
              "      background-color: #E8F0FE;\n",
              "      border: none;\n",
              "      border-radius: 50%;\n",
              "      cursor: pointer;\n",
              "      display: none;\n",
              "      fill: #1967D2;\n",
              "      height: 32px;\n",
              "      padding: 0 0 0 0;\n",
              "      width: 32px;\n",
              "    }\n",
              "\n",
              "    .colab-df-convert:hover {\n",
              "      background-color: #E2EBFA;\n",
              "      box-shadow: 0px 1px 2px rgba(60, 64, 67, 0.3), 0px 1px 3px 1px rgba(60, 64, 67, 0.15);\n",
              "      fill: #174EA6;\n",
              "    }\n",
              "\n",
              "    [theme=dark] .colab-df-convert {\n",
              "      background-color: #3B4455;\n",
              "      fill: #D2E3FC;\n",
              "    }\n",
              "\n",
              "    [theme=dark] .colab-df-convert:hover {\n",
              "      background-color: #434B5C;\n",
              "      box-shadow: 0px 1px 3px 1px rgba(0, 0, 0, 0.15);\n",
              "      filter: drop-shadow(0px 1px 2px rgba(0, 0, 0, 0.3));\n",
              "      fill: #FFFFFF;\n",
              "    }\n",
              "  </style>\n",
              "\n",
              "      <script>\n",
              "        const buttonEl =\n",
              "          document.querySelector('#df-5d55f4f3-1413-4be7-871b-723cd09e4f6e button.colab-df-convert');\n",
              "        buttonEl.style.display =\n",
              "          google.colab.kernel.accessAllowed ? 'block' : 'none';\n",
              "\n",
              "        async function convertToInteractive(key) {\n",
              "          const element = document.querySelector('#df-5d55f4f3-1413-4be7-871b-723cd09e4f6e');\n",
              "          const dataTable =\n",
              "            await google.colab.kernel.invokeFunction('convertToInteractive',\n",
              "                                                     [key], {});\n",
              "          if (!dataTable) return;\n",
              "\n",
              "          const docLinkHtml = 'Like what you see? Visit the ' +\n",
              "            '<a target=\"_blank\" href=https://colab.research.google.com/notebooks/data_table.ipynb>data table notebook</a>'\n",
              "            + ' to learn more about interactive tables.';\n",
              "          element.innerHTML = '';\n",
              "          dataTable['output_type'] = 'display_data';\n",
              "          await google.colab.output.renderOutput(dataTable, element);\n",
              "          const docLink = document.createElement('div');\n",
              "          docLink.innerHTML = docLinkHtml;\n",
              "          element.appendChild(docLink);\n",
              "        }\n",
              "      </script>\n",
              "    </div>\n",
              "  </div>\n",
              "  "
            ]
          },
          "metadata": {},
          "execution_count": 3
        }
      ]
    },
    {
      "cell_type": "markdown",
      "source": [
        "## Basic data cleaning and preprocessing"
      ],
      "metadata": {
        "id": "PtU5Jl3kfXKF"
      }
    },
    {
      "cell_type": "code",
      "source": [
        "# dropping useless rows\n",
        "df.drop(columns=['Name', 'Date', 'Product_Details', 'Helpful'], inplace=True)"
      ],
      "metadata": {
        "id": "VMxQ3IR3Qp1f"
      },
      "execution_count": null,
      "outputs": []
    },
    {
      "cell_type": "code",
      "source": [
        "df"
      ],
      "metadata": {
        "colab": {
          "base_uri": "https://localhost:8080/",
          "height": 424
        },
        "id": "VMnDMzDwUCo-",
        "outputId": "2c8b4baa-c698-401a-cba2-2fa9438d4190"
      },
      "execution_count": null,
      "outputs": [
        {
          "output_type": "execute_result",
          "data": {
            "text/plain": [
              "      Ratings                                             Header  \\\n",
              "0           4                                  Good for One Year   \n",
              "1           4                               Better than expected   \n",
              "2           4                      Product packaging is too old.   \n",
              "3           4                                 Issue with comfort   \n",
              "4           4                            Superb quality earphone   \n",
              "...       ...                                                ...   \n",
              "4995        2                           Received damaged product   \n",
              "4996        5  Good build quality, sound quality and enduranc...   \n",
              "4997        5                   Better product at low price rate   \n",
              "4998        4                          Compare to price it worth   \n",
              "4999        5                                            Durable   \n",
              "\n",
              "                                                 Review  \n",
              "0     Able to use exactly One year after that, only ...  \n",
              "1     It's been 2 month since I bought these earphon...  \n",
              "2     As per online pic model is changed. It is Refu...  \n",
              "3     I'll say product is fine 🙂 and all.I been usin...  \n",
              "4     Noise cancellation is not that good but overal...  \n",
              "...                                                 ...  \n",
              "4995  Received used headphones even after replacemen...  \n",
              "4996  For the price range it is an Excellent product...  \n",
              "4997  If your only purpose is to listen songs then i...  \n",
              "4998                                 Sound quality good  \n",
              "4999  Durable Best earphones, good quality but the v...  \n",
              "\n",
              "[5000 rows x 3 columns]"
            ],
            "text/html": [
              "\n",
              "  <div id=\"df-05bddda9-320a-4263-b784-e0d6ce96becd\">\n",
              "    <div class=\"colab-df-container\">\n",
              "      <div>\n",
              "<style scoped>\n",
              "    .dataframe tbody tr th:only-of-type {\n",
              "        vertical-align: middle;\n",
              "    }\n",
              "\n",
              "    .dataframe tbody tr th {\n",
              "        vertical-align: top;\n",
              "    }\n",
              "\n",
              "    .dataframe thead th {\n",
              "        text-align: right;\n",
              "    }\n",
              "</style>\n",
              "<table border=\"1\" class=\"dataframe\">\n",
              "  <thead>\n",
              "    <tr style=\"text-align: right;\">\n",
              "      <th></th>\n",
              "      <th>Ratings</th>\n",
              "      <th>Header</th>\n",
              "      <th>Review</th>\n",
              "    </tr>\n",
              "  </thead>\n",
              "  <tbody>\n",
              "    <tr>\n",
              "      <th>0</th>\n",
              "      <td>4</td>\n",
              "      <td>Good for One Year</td>\n",
              "      <td>Able to use exactly One year after that, only ...</td>\n",
              "    </tr>\n",
              "    <tr>\n",
              "      <th>1</th>\n",
              "      <td>4</td>\n",
              "      <td>Better than expected</td>\n",
              "      <td>It's been 2 month since I bought these earphon...</td>\n",
              "    </tr>\n",
              "    <tr>\n",
              "      <th>2</th>\n",
              "      <td>4</td>\n",
              "      <td>Product packaging is too old.</td>\n",
              "      <td>As per online pic model is changed. It is Refu...</td>\n",
              "    </tr>\n",
              "    <tr>\n",
              "      <th>3</th>\n",
              "      <td>4</td>\n",
              "      <td>Issue with comfort</td>\n",
              "      <td>I'll say product is fine 🙂 and all.I been usin...</td>\n",
              "    </tr>\n",
              "    <tr>\n",
              "      <th>4</th>\n",
              "      <td>4</td>\n",
              "      <td>Superb quality earphone</td>\n",
              "      <td>Noise cancellation is not that good but overal...</td>\n",
              "    </tr>\n",
              "    <tr>\n",
              "      <th>...</th>\n",
              "      <td>...</td>\n",
              "      <td>...</td>\n",
              "      <td>...</td>\n",
              "    </tr>\n",
              "    <tr>\n",
              "      <th>4995</th>\n",
              "      <td>2</td>\n",
              "      <td>Received damaged product</td>\n",
              "      <td>Received used headphones even after replacemen...</td>\n",
              "    </tr>\n",
              "    <tr>\n",
              "      <th>4996</th>\n",
              "      <td>5</td>\n",
              "      <td>Good build quality, sound quality and enduranc...</td>\n",
              "      <td>For the price range it is an Excellent product...</td>\n",
              "    </tr>\n",
              "    <tr>\n",
              "      <th>4997</th>\n",
              "      <td>5</td>\n",
              "      <td>Better product at low price rate</td>\n",
              "      <td>If your only purpose is to listen songs then i...</td>\n",
              "    </tr>\n",
              "    <tr>\n",
              "      <th>4998</th>\n",
              "      <td>4</td>\n",
              "      <td>Compare to price it worth</td>\n",
              "      <td>Sound quality good</td>\n",
              "    </tr>\n",
              "    <tr>\n",
              "      <th>4999</th>\n",
              "      <td>5</td>\n",
              "      <td>Durable</td>\n",
              "      <td>Durable Best earphones, good quality but the v...</td>\n",
              "    </tr>\n",
              "  </tbody>\n",
              "</table>\n",
              "<p>5000 rows × 3 columns</p>\n",
              "</div>\n",
              "      <button class=\"colab-df-convert\" onclick=\"convertToInteractive('df-05bddda9-320a-4263-b784-e0d6ce96becd')\"\n",
              "              title=\"Convert this dataframe to an interactive table.\"\n",
              "              style=\"display:none;\">\n",
              "        \n",
              "  <svg xmlns=\"http://www.w3.org/2000/svg\" height=\"24px\"viewBox=\"0 0 24 24\"\n",
              "       width=\"24px\">\n",
              "    <path d=\"M0 0h24v24H0V0z\" fill=\"none\"/>\n",
              "    <path d=\"M18.56 5.44l.94 2.06.94-2.06 2.06-.94-2.06-.94-.94-2.06-.94 2.06-2.06.94zm-11 1L8.5 8.5l.94-2.06 2.06-.94-2.06-.94L8.5 2.5l-.94 2.06-2.06.94zm10 10l.94 2.06.94-2.06 2.06-.94-2.06-.94-.94-2.06-.94 2.06-2.06.94z\"/><path d=\"M17.41 7.96l-1.37-1.37c-.4-.4-.92-.59-1.43-.59-.52 0-1.04.2-1.43.59L10.3 9.45l-7.72 7.72c-.78.78-.78 2.05 0 2.83L4 21.41c.39.39.9.59 1.41.59.51 0 1.02-.2 1.41-.59l7.78-7.78 2.81-2.81c.8-.78.8-2.07 0-2.86zM5.41 20L4 18.59l7.72-7.72 1.47 1.35L5.41 20z\"/>\n",
              "  </svg>\n",
              "      </button>\n",
              "      \n",
              "  <style>\n",
              "    .colab-df-container {\n",
              "      display:flex;\n",
              "      flex-wrap:wrap;\n",
              "      gap: 12px;\n",
              "    }\n",
              "\n",
              "    .colab-df-convert {\n",
              "      background-color: #E8F0FE;\n",
              "      border: none;\n",
              "      border-radius: 50%;\n",
              "      cursor: pointer;\n",
              "      display: none;\n",
              "      fill: #1967D2;\n",
              "      height: 32px;\n",
              "      padding: 0 0 0 0;\n",
              "      width: 32px;\n",
              "    }\n",
              "\n",
              "    .colab-df-convert:hover {\n",
              "      background-color: #E2EBFA;\n",
              "      box-shadow: 0px 1px 2px rgba(60, 64, 67, 0.3), 0px 1px 3px 1px rgba(60, 64, 67, 0.15);\n",
              "      fill: #174EA6;\n",
              "    }\n",
              "\n",
              "    [theme=dark] .colab-df-convert {\n",
              "      background-color: #3B4455;\n",
              "      fill: #D2E3FC;\n",
              "    }\n",
              "\n",
              "    [theme=dark] .colab-df-convert:hover {\n",
              "      background-color: #434B5C;\n",
              "      box-shadow: 0px 1px 3px 1px rgba(0, 0, 0, 0.15);\n",
              "      filter: drop-shadow(0px 1px 2px rgba(0, 0, 0, 0.3));\n",
              "      fill: #FFFFFF;\n",
              "    }\n",
              "  </style>\n",
              "\n",
              "      <script>\n",
              "        const buttonEl =\n",
              "          document.querySelector('#df-05bddda9-320a-4263-b784-e0d6ce96becd button.colab-df-convert');\n",
              "        buttonEl.style.display =\n",
              "          google.colab.kernel.accessAllowed ? 'block' : 'none';\n",
              "\n",
              "        async function convertToInteractive(key) {\n",
              "          const element = document.querySelector('#df-05bddda9-320a-4263-b784-e0d6ce96becd');\n",
              "          const dataTable =\n",
              "            await google.colab.kernel.invokeFunction('convertToInteractive',\n",
              "                                                     [key], {});\n",
              "          if (!dataTable) return;\n",
              "\n",
              "          const docLinkHtml = 'Like what you see? Visit the ' +\n",
              "            '<a target=\"_blank\" href=https://colab.research.google.com/notebooks/data_table.ipynb>data table notebook</a>'\n",
              "            + ' to learn more about interactive tables.';\n",
              "          element.innerHTML = '';\n",
              "          dataTable['output_type'] = 'display_data';\n",
              "          await google.colab.output.renderOutput(dataTable, element);\n",
              "          const docLink = document.createElement('div');\n",
              "          docLink.innerHTML = docLinkHtml;\n",
              "          element.appendChild(docLink);\n",
              "        }\n",
              "      </script>\n",
              "    </div>\n",
              "  </div>\n",
              "  "
            ]
          },
          "metadata": {},
          "execution_count": 5
        }
      ]
    },
    {
      "cell_type": "code",
      "source": [
        "# merging header and review for full review\n",
        "df['Full_Review'] = df['Header'] + '. '+ df['Review']"
      ],
      "metadata": {
        "id": "7vNQj0RVUEIm"
      },
      "execution_count": null,
      "outputs": []
    },
    {
      "cell_type": "code",
      "source": [
        "df.drop(columns=['Header', 'Review'], inplace=True)"
      ],
      "metadata": {
        "id": "izrFNfyMUN0m"
      },
      "execution_count": null,
      "outputs": []
    },
    {
      "cell_type": "code",
      "source": [
        "df.sample(10)"
      ],
      "metadata": {
        "colab": {
          "base_uri": "https://localhost:8080/",
          "height": 363
        },
        "id": "yrgZJS-8UOpe",
        "outputId": "e61a10ac-33cc-4faf-b83a-618ab205cd03"
      },
      "execution_count": null,
      "outputs": [
        {
          "output_type": "execute_result",
          "data": {
            "text/plain": [
              "      Ratings                                        Full_Review\n",
              "4946        5  Great product at great price. If purely sound ...\n",
              "712         4  Overall good product. Quality and plastic can ...\n",
              "4761        5                   Happy. Awesome product from boat\n",
              "745         3  Better than other brands but wire is thinner.....\n",
              "2874        1  Not good product, after 15 days its stopped wo...\n",
              "1226        3  Not happy by product. with in 40 days one righ...\n",
              "944         4  Average performance. unable to hear good sound...\n",
              "2444        3  Wont last more than 6 months. Bought it last y...\n",
              "1300        5                             Overall nice. Nice one\n",
              "4242        4  Value for the money. Cool product...Good quali..."
            ],
            "text/html": [
              "\n",
              "  <div id=\"df-5e481f73-faf5-4cb5-bbe1-fead38ba0b52\">\n",
              "    <div class=\"colab-df-container\">\n",
              "      <div>\n",
              "<style scoped>\n",
              "    .dataframe tbody tr th:only-of-type {\n",
              "        vertical-align: middle;\n",
              "    }\n",
              "\n",
              "    .dataframe tbody tr th {\n",
              "        vertical-align: top;\n",
              "    }\n",
              "\n",
              "    .dataframe thead th {\n",
              "        text-align: right;\n",
              "    }\n",
              "</style>\n",
              "<table border=\"1\" class=\"dataframe\">\n",
              "  <thead>\n",
              "    <tr style=\"text-align: right;\">\n",
              "      <th></th>\n",
              "      <th>Ratings</th>\n",
              "      <th>Full_Review</th>\n",
              "    </tr>\n",
              "  </thead>\n",
              "  <tbody>\n",
              "    <tr>\n",
              "      <th>4946</th>\n",
              "      <td>5</td>\n",
              "      <td>Great product at great price. If purely sound ...</td>\n",
              "    </tr>\n",
              "    <tr>\n",
              "      <th>712</th>\n",
              "      <td>4</td>\n",
              "      <td>Overall good product. Quality and plastic can ...</td>\n",
              "    </tr>\n",
              "    <tr>\n",
              "      <th>4761</th>\n",
              "      <td>5</td>\n",
              "      <td>Happy. Awesome product from boat</td>\n",
              "    </tr>\n",
              "    <tr>\n",
              "      <th>745</th>\n",
              "      <td>3</td>\n",
              "      <td>Better than other brands but wire is thinner.....</td>\n",
              "    </tr>\n",
              "    <tr>\n",
              "      <th>2874</th>\n",
              "      <td>1</td>\n",
              "      <td>Not good product, after 15 days its stopped wo...</td>\n",
              "    </tr>\n",
              "    <tr>\n",
              "      <th>1226</th>\n",
              "      <td>3</td>\n",
              "      <td>Not happy by product. with in 40 days one righ...</td>\n",
              "    </tr>\n",
              "    <tr>\n",
              "      <th>944</th>\n",
              "      <td>4</td>\n",
              "      <td>Average performance. unable to hear good sound...</td>\n",
              "    </tr>\n",
              "    <tr>\n",
              "      <th>2444</th>\n",
              "      <td>3</td>\n",
              "      <td>Wont last more than 6 months. Bought it last y...</td>\n",
              "    </tr>\n",
              "    <tr>\n",
              "      <th>1300</th>\n",
              "      <td>5</td>\n",
              "      <td>Overall nice. Nice one</td>\n",
              "    </tr>\n",
              "    <tr>\n",
              "      <th>4242</th>\n",
              "      <td>4</td>\n",
              "      <td>Value for the money. Cool product...Good quali...</td>\n",
              "    </tr>\n",
              "  </tbody>\n",
              "</table>\n",
              "</div>\n",
              "      <button class=\"colab-df-convert\" onclick=\"convertToInteractive('df-5e481f73-faf5-4cb5-bbe1-fead38ba0b52')\"\n",
              "              title=\"Convert this dataframe to an interactive table.\"\n",
              "              style=\"display:none;\">\n",
              "        \n",
              "  <svg xmlns=\"http://www.w3.org/2000/svg\" height=\"24px\"viewBox=\"0 0 24 24\"\n",
              "       width=\"24px\">\n",
              "    <path d=\"M0 0h24v24H0V0z\" fill=\"none\"/>\n",
              "    <path d=\"M18.56 5.44l.94 2.06.94-2.06 2.06-.94-2.06-.94-.94-2.06-.94 2.06-2.06.94zm-11 1L8.5 8.5l.94-2.06 2.06-.94-2.06-.94L8.5 2.5l-.94 2.06-2.06.94zm10 10l.94 2.06.94-2.06 2.06-.94-2.06-.94-.94-2.06-.94 2.06-2.06.94z\"/><path d=\"M17.41 7.96l-1.37-1.37c-.4-.4-.92-.59-1.43-.59-.52 0-1.04.2-1.43.59L10.3 9.45l-7.72 7.72c-.78.78-.78 2.05 0 2.83L4 21.41c.39.39.9.59 1.41.59.51 0 1.02-.2 1.41-.59l7.78-7.78 2.81-2.81c.8-.78.8-2.07 0-2.86zM5.41 20L4 18.59l7.72-7.72 1.47 1.35L5.41 20z\"/>\n",
              "  </svg>\n",
              "      </button>\n",
              "      \n",
              "  <style>\n",
              "    .colab-df-container {\n",
              "      display:flex;\n",
              "      flex-wrap:wrap;\n",
              "      gap: 12px;\n",
              "    }\n",
              "\n",
              "    .colab-df-convert {\n",
              "      background-color: #E8F0FE;\n",
              "      border: none;\n",
              "      border-radius: 50%;\n",
              "      cursor: pointer;\n",
              "      display: none;\n",
              "      fill: #1967D2;\n",
              "      height: 32px;\n",
              "      padding: 0 0 0 0;\n",
              "      width: 32px;\n",
              "    }\n",
              "\n",
              "    .colab-df-convert:hover {\n",
              "      background-color: #E2EBFA;\n",
              "      box-shadow: 0px 1px 2px rgba(60, 64, 67, 0.3), 0px 1px 3px 1px rgba(60, 64, 67, 0.15);\n",
              "      fill: #174EA6;\n",
              "    }\n",
              "\n",
              "    [theme=dark] .colab-df-convert {\n",
              "      background-color: #3B4455;\n",
              "      fill: #D2E3FC;\n",
              "    }\n",
              "\n",
              "    [theme=dark] .colab-df-convert:hover {\n",
              "      background-color: #434B5C;\n",
              "      box-shadow: 0px 1px 3px 1px rgba(0, 0, 0, 0.15);\n",
              "      filter: drop-shadow(0px 1px 2px rgba(0, 0, 0, 0.3));\n",
              "      fill: #FFFFFF;\n",
              "    }\n",
              "  </style>\n",
              "\n",
              "      <script>\n",
              "        const buttonEl =\n",
              "          document.querySelector('#df-5e481f73-faf5-4cb5-bbe1-fead38ba0b52 button.colab-df-convert');\n",
              "        buttonEl.style.display =\n",
              "          google.colab.kernel.accessAllowed ? 'block' : 'none';\n",
              "\n",
              "        async function convertToInteractive(key) {\n",
              "          const element = document.querySelector('#df-5e481f73-faf5-4cb5-bbe1-fead38ba0b52');\n",
              "          const dataTable =\n",
              "            await google.colab.kernel.invokeFunction('convertToInteractive',\n",
              "                                                     [key], {});\n",
              "          if (!dataTable) return;\n",
              "\n",
              "          const docLinkHtml = 'Like what you see? Visit the ' +\n",
              "            '<a target=\"_blank\" href=https://colab.research.google.com/notebooks/data_table.ipynb>data table notebook</a>'\n",
              "            + ' to learn more about interactive tables.';\n",
              "          element.innerHTML = '';\n",
              "          dataTable['output_type'] = 'display_data';\n",
              "          await google.colab.output.renderOutput(dataTable, element);\n",
              "          const docLink = document.createElement('div');\n",
              "          docLink.innerHTML = docLinkHtml;\n",
              "          element.appendChild(docLink);\n",
              "        }\n",
              "      </script>\n",
              "    </div>\n",
              "  </div>\n",
              "  "
            ]
          },
          "metadata": {},
          "execution_count": 8
        }
      ]
    },
    {
      "cell_type": "markdown",
      "source": [
        "### Converting Ratings to Positive and Negative\n",
        "Here, we have chosen to include 4 and 5 stars as Positive, 1, 2 and 3 stars as Negative. "
      ],
      "metadata": {
        "id": "71dyXb2MYMAJ"
      }
    },
    {
      "cell_type": "code",
      "source": [
        "# binning ratings to posituve and negative\n",
        "bins = [0, 3, np.inf]\n",
        "names = [0, 1]\n",
        "\n",
        "df['Ratings'] = pd.cut(df['Ratings'], bins, labels=names)"
      ],
      "metadata": {
        "id": "L9_npc5EU9WO"
      },
      "execution_count": null,
      "outputs": []
    },
    {
      "cell_type": "code",
      "source": [
        "df"
      ],
      "metadata": {
        "colab": {
          "base_uri": "https://localhost:8080/",
          "height": 424
        },
        "id": "GFiqSDLAbj1-",
        "outputId": "89bd5e8b-9cc8-4f47-ce20-4f9765900326"
      },
      "execution_count": null,
      "outputs": [
        {
          "output_type": "execute_result",
          "data": {
            "text/plain": [
              "     Ratings                                        Full_Review\n",
              "0          1  Good for One Year. Able to use exactly One yea...\n",
              "1          1  Better than expected. It's been 2 month since ...\n",
              "2          1  Product packaging is too old.. As per online p...\n",
              "3          1  Issue with comfort. I'll say product is fine 🙂...\n",
              "4          1  Superb quality earphone. Noise cancellation is...\n",
              "...      ...                                                ...\n",
              "4995       0  Received damaged product. Received used headph...\n",
              "4996       1  Good build quality, sound quality and enduranc...\n",
              "4997       1  Better product at low price rate. If your only...\n",
              "4998       1      Compare to price it worth. Sound quality good\n",
              "4999       1  Durable. Durable Best earphones, good quality ...\n",
              "\n",
              "[5000 rows x 2 columns]"
            ],
            "text/html": [
              "\n",
              "  <div id=\"df-dac66f70-05e8-463c-a3c2-7171f95fa0c7\">\n",
              "    <div class=\"colab-df-container\">\n",
              "      <div>\n",
              "<style scoped>\n",
              "    .dataframe tbody tr th:only-of-type {\n",
              "        vertical-align: middle;\n",
              "    }\n",
              "\n",
              "    .dataframe tbody tr th {\n",
              "        vertical-align: top;\n",
              "    }\n",
              "\n",
              "    .dataframe thead th {\n",
              "        text-align: right;\n",
              "    }\n",
              "</style>\n",
              "<table border=\"1\" class=\"dataframe\">\n",
              "  <thead>\n",
              "    <tr style=\"text-align: right;\">\n",
              "      <th></th>\n",
              "      <th>Ratings</th>\n",
              "      <th>Full_Review</th>\n",
              "    </tr>\n",
              "  </thead>\n",
              "  <tbody>\n",
              "    <tr>\n",
              "      <th>0</th>\n",
              "      <td>1</td>\n",
              "      <td>Good for One Year. Able to use exactly One yea...</td>\n",
              "    </tr>\n",
              "    <tr>\n",
              "      <th>1</th>\n",
              "      <td>1</td>\n",
              "      <td>Better than expected. It's been 2 month since ...</td>\n",
              "    </tr>\n",
              "    <tr>\n",
              "      <th>2</th>\n",
              "      <td>1</td>\n",
              "      <td>Product packaging is too old.. As per online p...</td>\n",
              "    </tr>\n",
              "    <tr>\n",
              "      <th>3</th>\n",
              "      <td>1</td>\n",
              "      <td>Issue with comfort. I'll say product is fine 🙂...</td>\n",
              "    </tr>\n",
              "    <tr>\n",
              "      <th>4</th>\n",
              "      <td>1</td>\n",
              "      <td>Superb quality earphone. Noise cancellation is...</td>\n",
              "    </tr>\n",
              "    <tr>\n",
              "      <th>...</th>\n",
              "      <td>...</td>\n",
              "      <td>...</td>\n",
              "    </tr>\n",
              "    <tr>\n",
              "      <th>4995</th>\n",
              "      <td>0</td>\n",
              "      <td>Received damaged product. Received used headph...</td>\n",
              "    </tr>\n",
              "    <tr>\n",
              "      <th>4996</th>\n",
              "      <td>1</td>\n",
              "      <td>Good build quality, sound quality and enduranc...</td>\n",
              "    </tr>\n",
              "    <tr>\n",
              "      <th>4997</th>\n",
              "      <td>1</td>\n",
              "      <td>Better product at low price rate. If your only...</td>\n",
              "    </tr>\n",
              "    <tr>\n",
              "      <th>4998</th>\n",
              "      <td>1</td>\n",
              "      <td>Compare to price it worth. Sound quality good</td>\n",
              "    </tr>\n",
              "    <tr>\n",
              "      <th>4999</th>\n",
              "      <td>1</td>\n",
              "      <td>Durable. Durable Best earphones, good quality ...</td>\n",
              "    </tr>\n",
              "  </tbody>\n",
              "</table>\n",
              "<p>5000 rows × 2 columns</p>\n",
              "</div>\n",
              "      <button class=\"colab-df-convert\" onclick=\"convertToInteractive('df-dac66f70-05e8-463c-a3c2-7171f95fa0c7')\"\n",
              "              title=\"Convert this dataframe to an interactive table.\"\n",
              "              style=\"display:none;\">\n",
              "        \n",
              "  <svg xmlns=\"http://www.w3.org/2000/svg\" height=\"24px\"viewBox=\"0 0 24 24\"\n",
              "       width=\"24px\">\n",
              "    <path d=\"M0 0h24v24H0V0z\" fill=\"none\"/>\n",
              "    <path d=\"M18.56 5.44l.94 2.06.94-2.06 2.06-.94-2.06-.94-.94-2.06-.94 2.06-2.06.94zm-11 1L8.5 8.5l.94-2.06 2.06-.94-2.06-.94L8.5 2.5l-.94 2.06-2.06.94zm10 10l.94 2.06.94-2.06 2.06-.94-2.06-.94-.94-2.06-.94 2.06-2.06.94z\"/><path d=\"M17.41 7.96l-1.37-1.37c-.4-.4-.92-.59-1.43-.59-.52 0-1.04.2-1.43.59L10.3 9.45l-7.72 7.72c-.78.78-.78 2.05 0 2.83L4 21.41c.39.39.9.59 1.41.59.51 0 1.02-.2 1.41-.59l7.78-7.78 2.81-2.81c.8-.78.8-2.07 0-2.86zM5.41 20L4 18.59l7.72-7.72 1.47 1.35L5.41 20z\"/>\n",
              "  </svg>\n",
              "      </button>\n",
              "      \n",
              "  <style>\n",
              "    .colab-df-container {\n",
              "      display:flex;\n",
              "      flex-wrap:wrap;\n",
              "      gap: 12px;\n",
              "    }\n",
              "\n",
              "    .colab-df-convert {\n",
              "      background-color: #E8F0FE;\n",
              "      border: none;\n",
              "      border-radius: 50%;\n",
              "      cursor: pointer;\n",
              "      display: none;\n",
              "      fill: #1967D2;\n",
              "      height: 32px;\n",
              "      padding: 0 0 0 0;\n",
              "      width: 32px;\n",
              "    }\n",
              "\n",
              "    .colab-df-convert:hover {\n",
              "      background-color: #E2EBFA;\n",
              "      box-shadow: 0px 1px 2px rgba(60, 64, 67, 0.3), 0px 1px 3px 1px rgba(60, 64, 67, 0.15);\n",
              "      fill: #174EA6;\n",
              "    }\n",
              "\n",
              "    [theme=dark] .colab-df-convert {\n",
              "      background-color: #3B4455;\n",
              "      fill: #D2E3FC;\n",
              "    }\n",
              "\n",
              "    [theme=dark] .colab-df-convert:hover {\n",
              "      background-color: #434B5C;\n",
              "      box-shadow: 0px 1px 3px 1px rgba(0, 0, 0, 0.15);\n",
              "      filter: drop-shadow(0px 1px 2px rgba(0, 0, 0, 0.3));\n",
              "      fill: #FFFFFF;\n",
              "    }\n",
              "  </style>\n",
              "\n",
              "      <script>\n",
              "        const buttonEl =\n",
              "          document.querySelector('#df-dac66f70-05e8-463c-a3c2-7171f95fa0c7 button.colab-df-convert');\n",
              "        buttonEl.style.display =\n",
              "          google.colab.kernel.accessAllowed ? 'block' : 'none';\n",
              "\n",
              "        async function convertToInteractive(key) {\n",
              "          const element = document.querySelector('#df-dac66f70-05e8-463c-a3c2-7171f95fa0c7');\n",
              "          const dataTable =\n",
              "            await google.colab.kernel.invokeFunction('convertToInteractive',\n",
              "                                                     [key], {});\n",
              "          if (!dataTable) return;\n",
              "\n",
              "          const docLinkHtml = 'Like what you see? Visit the ' +\n",
              "            '<a target=\"_blank\" href=https://colab.research.google.com/notebooks/data_table.ipynb>data table notebook</a>'\n",
              "            + ' to learn more about interactive tables.';\n",
              "          element.innerHTML = '';\n",
              "          dataTable['output_type'] = 'display_data';\n",
              "          await google.colab.output.renderOutput(dataTable, element);\n",
              "          const docLink = document.createElement('div');\n",
              "          docLink.innerHTML = docLinkHtml;\n",
              "          element.appendChild(docLink);\n",
              "        }\n",
              "      </script>\n",
              "    </div>\n",
              "  </div>\n",
              "  "
            ]
          },
          "metadata": {},
          "execution_count": 10
        }
      ]
    },
    {
      "cell_type": "markdown",
      "source": [
        "### Dropping NaN reviews"
      ],
      "metadata": {
        "id": "UGxxgy5DfIoF"
      }
    },
    {
      "cell_type": "code",
      "source": [
        "df.dropna(inplace=True)"
      ],
      "metadata": {
        "id": "8_3_VDZzWhpt"
      },
      "execution_count": null,
      "outputs": []
    },
    {
      "cell_type": "code",
      "source": [
        "df.shape"
      ],
      "metadata": {
        "colab": {
          "base_uri": "https://localhost:8080/"
        },
        "id": "siUBGdpleUFx",
        "outputId": "424cee4b-892d-4141-f4c6-3d0ff2b8dff7"
      },
      "execution_count": null,
      "outputs": [
        {
          "output_type": "execute_result",
          "data": {
            "text/plain": [
              "(4741, 2)"
            ]
          },
          "metadata": {},
          "execution_count": 12
        }
      ]
    },
    {
      "cell_type": "markdown",
      "source": [
        "### Dropping Duplicates"
      ],
      "metadata": {
        "id": "G5FnBOnR__mw"
      }
    },
    {
      "cell_type": "code",
      "source": [
        "df.duplicated().sum()"
      ],
      "metadata": {
        "colab": {
          "base_uri": "https://localhost:8080/"
        },
        "id": "uOYgvhNh_rpZ",
        "outputId": "45eca3a7-36d4-4a7e-b4b0-46d8d3863460"
      },
      "execution_count": null,
      "outputs": [
        {
          "output_type": "execute_result",
          "data": {
            "text/plain": [
              "239"
            ]
          },
          "metadata": {},
          "execution_count": 13
        }
      ]
    },
    {
      "cell_type": "code",
      "source": [
        "df = df.drop_duplicates()"
      ],
      "metadata": {
        "id": "B5kUf8Z7_26q"
      },
      "execution_count": null,
      "outputs": []
    },
    {
      "cell_type": "code",
      "source": [
        "df.shape"
      ],
      "metadata": {
        "colab": {
          "base_uri": "https://localhost:8080/"
        },
        "id": "tYUWTjA3AIJg",
        "outputId": "9f48c280-3f08-45c9-9cb7-23fdabe90a50"
      },
      "execution_count": null,
      "outputs": [
        {
          "output_type": "execute_result",
          "data": {
            "text/plain": [
              "(4502, 2)"
            ]
          },
          "metadata": {},
          "execution_count": 15
        }
      ]
    },
    {
      "cell_type": "markdown",
      "source": [
        "## Undersampling \n",
        "To deal with the problem of Class Imbalance - Random DownSampler"
      ],
      "metadata": {
        "id": "NDw3HfO_fP5_"
      }
    },
    {
      "cell_type": "code",
      "source": [
        "df.Ratings.value_counts()"
      ],
      "metadata": {
        "colab": {
          "base_uri": "https://localhost:8080/"
        },
        "id": "jxAC2knTXu-m",
        "outputId": "54d07ee1-757d-4d1d-985e-6dc18b952a88"
      },
      "execution_count": null,
      "outputs": [
        {
          "output_type": "execute_result",
          "data": {
            "text/plain": [
              "1    3543\n",
              "0     959\n",
              "Name: Ratings, dtype: int64"
            ]
          },
          "metadata": {},
          "execution_count": 16
        }
      ]
    },
    {
      "cell_type": "code",
      "source": [
        "neg_df = df[df.Ratings == 0]\n",
        "pos_df = df[df.Ratings == 1]"
      ],
      "metadata": {
        "id": "lv5Gw2SabvMs"
      },
      "execution_count": null,
      "outputs": []
    },
    {
      "cell_type": "code",
      "source": [
        "# sampling positive rows equal to no of negative rows\n",
        "pos_sample_df = pos_df.sample(neg_df.shape[0], random_state=34)"
      ],
      "metadata": {
        "id": "vx6oELdSdnC9"
      },
      "execution_count": null,
      "outputs": []
    },
    {
      "cell_type": "code",
      "source": [
        "pos_sample_df"
      ],
      "metadata": {
        "colab": {
          "base_uri": "https://localhost:8080/",
          "height": 424
        },
        "id": "FWH5J3r-dokN",
        "outputId": "ce812e6a-ceaa-45e3-f986-865397614655"
      },
      "execution_count": null,
      "outputs": [
        {
          "output_type": "execute_result",
          "data": {
            "text/plain": [
              "     Ratings                                        Full_Review\n",
              "10         1  Ok budget headphone. Noise cancellation and mi...\n",
              "2965       1  Unexpected!! Overwhelmed with boAt BassHeads 1...\n",
              "4295       1                             Sound quality good. No\n",
              "1371       1                  Good. Bass would have been better\n",
              "2886       1  Good product and inexpensive. Let's cover the ...\n",
              "...      ...                                                ...\n",
              "3740       1  Replace my earphone. I want to replace my earp...\n",
              "4849       1  Good for music, average for gaming. I liked th...\n",
              "3798       1  Good bass. I like this one. Good bass and stan...\n",
              "2971       1  Best price according to quality. According to ...\n",
              "308        1  That's a good one... A good product with a fan...\n",
              "\n",
              "[959 rows x 2 columns]"
            ],
            "text/html": [
              "\n",
              "  <div id=\"df-da5ee257-4df9-4fc0-a0da-d28d1dfc578f\">\n",
              "    <div class=\"colab-df-container\">\n",
              "      <div>\n",
              "<style scoped>\n",
              "    .dataframe tbody tr th:only-of-type {\n",
              "        vertical-align: middle;\n",
              "    }\n",
              "\n",
              "    .dataframe tbody tr th {\n",
              "        vertical-align: top;\n",
              "    }\n",
              "\n",
              "    .dataframe thead th {\n",
              "        text-align: right;\n",
              "    }\n",
              "</style>\n",
              "<table border=\"1\" class=\"dataframe\">\n",
              "  <thead>\n",
              "    <tr style=\"text-align: right;\">\n",
              "      <th></th>\n",
              "      <th>Ratings</th>\n",
              "      <th>Full_Review</th>\n",
              "    </tr>\n",
              "  </thead>\n",
              "  <tbody>\n",
              "    <tr>\n",
              "      <th>10</th>\n",
              "      <td>1</td>\n",
              "      <td>Ok budget headphone. Noise cancellation and mi...</td>\n",
              "    </tr>\n",
              "    <tr>\n",
              "      <th>2965</th>\n",
              "      <td>1</td>\n",
              "      <td>Unexpected!! Overwhelmed with boAt BassHeads 1...</td>\n",
              "    </tr>\n",
              "    <tr>\n",
              "      <th>4295</th>\n",
              "      <td>1</td>\n",
              "      <td>Sound quality good. No</td>\n",
              "    </tr>\n",
              "    <tr>\n",
              "      <th>1371</th>\n",
              "      <td>1</td>\n",
              "      <td>Good. Bass would have been better</td>\n",
              "    </tr>\n",
              "    <tr>\n",
              "      <th>2886</th>\n",
              "      <td>1</td>\n",
              "      <td>Good product and inexpensive. Let's cover the ...</td>\n",
              "    </tr>\n",
              "    <tr>\n",
              "      <th>...</th>\n",
              "      <td>...</td>\n",
              "      <td>...</td>\n",
              "    </tr>\n",
              "    <tr>\n",
              "      <th>3740</th>\n",
              "      <td>1</td>\n",
              "      <td>Replace my earphone. I want to replace my earp...</td>\n",
              "    </tr>\n",
              "    <tr>\n",
              "      <th>4849</th>\n",
              "      <td>1</td>\n",
              "      <td>Good for music, average for gaming. I liked th...</td>\n",
              "    </tr>\n",
              "    <tr>\n",
              "      <th>3798</th>\n",
              "      <td>1</td>\n",
              "      <td>Good bass. I like this one. Good bass and stan...</td>\n",
              "    </tr>\n",
              "    <tr>\n",
              "      <th>2971</th>\n",
              "      <td>1</td>\n",
              "      <td>Best price according to quality. According to ...</td>\n",
              "    </tr>\n",
              "    <tr>\n",
              "      <th>308</th>\n",
              "      <td>1</td>\n",
              "      <td>That's a good one... A good product with a fan...</td>\n",
              "    </tr>\n",
              "  </tbody>\n",
              "</table>\n",
              "<p>959 rows × 2 columns</p>\n",
              "</div>\n",
              "      <button class=\"colab-df-convert\" onclick=\"convertToInteractive('df-da5ee257-4df9-4fc0-a0da-d28d1dfc578f')\"\n",
              "              title=\"Convert this dataframe to an interactive table.\"\n",
              "              style=\"display:none;\">\n",
              "        \n",
              "  <svg xmlns=\"http://www.w3.org/2000/svg\" height=\"24px\"viewBox=\"0 0 24 24\"\n",
              "       width=\"24px\">\n",
              "    <path d=\"M0 0h24v24H0V0z\" fill=\"none\"/>\n",
              "    <path d=\"M18.56 5.44l.94 2.06.94-2.06 2.06-.94-2.06-.94-.94-2.06-.94 2.06-2.06.94zm-11 1L8.5 8.5l.94-2.06 2.06-.94-2.06-.94L8.5 2.5l-.94 2.06-2.06.94zm10 10l.94 2.06.94-2.06 2.06-.94-2.06-.94-.94-2.06-.94 2.06-2.06.94z\"/><path d=\"M17.41 7.96l-1.37-1.37c-.4-.4-.92-.59-1.43-.59-.52 0-1.04.2-1.43.59L10.3 9.45l-7.72 7.72c-.78.78-.78 2.05 0 2.83L4 21.41c.39.39.9.59 1.41.59.51 0 1.02-.2 1.41-.59l7.78-7.78 2.81-2.81c.8-.78.8-2.07 0-2.86zM5.41 20L4 18.59l7.72-7.72 1.47 1.35L5.41 20z\"/>\n",
              "  </svg>\n",
              "      </button>\n",
              "      \n",
              "  <style>\n",
              "    .colab-df-container {\n",
              "      display:flex;\n",
              "      flex-wrap:wrap;\n",
              "      gap: 12px;\n",
              "    }\n",
              "\n",
              "    .colab-df-convert {\n",
              "      background-color: #E8F0FE;\n",
              "      border: none;\n",
              "      border-radius: 50%;\n",
              "      cursor: pointer;\n",
              "      display: none;\n",
              "      fill: #1967D2;\n",
              "      height: 32px;\n",
              "      padding: 0 0 0 0;\n",
              "      width: 32px;\n",
              "    }\n",
              "\n",
              "    .colab-df-convert:hover {\n",
              "      background-color: #E2EBFA;\n",
              "      box-shadow: 0px 1px 2px rgba(60, 64, 67, 0.3), 0px 1px 3px 1px rgba(60, 64, 67, 0.15);\n",
              "      fill: #174EA6;\n",
              "    }\n",
              "\n",
              "    [theme=dark] .colab-df-convert {\n",
              "      background-color: #3B4455;\n",
              "      fill: #D2E3FC;\n",
              "    }\n",
              "\n",
              "    [theme=dark] .colab-df-convert:hover {\n",
              "      background-color: #434B5C;\n",
              "      box-shadow: 0px 1px 3px 1px rgba(0, 0, 0, 0.15);\n",
              "      filter: drop-shadow(0px 1px 2px rgba(0, 0, 0, 0.3));\n",
              "      fill: #FFFFFF;\n",
              "    }\n",
              "  </style>\n",
              "\n",
              "      <script>\n",
              "        const buttonEl =\n",
              "          document.querySelector('#df-da5ee257-4df9-4fc0-a0da-d28d1dfc578f button.colab-df-convert');\n",
              "        buttonEl.style.display =\n",
              "          google.colab.kernel.accessAllowed ? 'block' : 'none';\n",
              "\n",
              "        async function convertToInteractive(key) {\n",
              "          const element = document.querySelector('#df-da5ee257-4df9-4fc0-a0da-d28d1dfc578f');\n",
              "          const dataTable =\n",
              "            await google.colab.kernel.invokeFunction('convertToInteractive',\n",
              "                                                     [key], {});\n",
              "          if (!dataTable) return;\n",
              "\n",
              "          const docLinkHtml = 'Like what you see? Visit the ' +\n",
              "            '<a target=\"_blank\" href=https://colab.research.google.com/notebooks/data_table.ipynb>data table notebook</a>'\n",
              "            + ' to learn more about interactive tables.';\n",
              "          element.innerHTML = '';\n",
              "          dataTable['output_type'] = 'display_data';\n",
              "          await google.colab.output.renderOutput(dataTable, element);\n",
              "          const docLink = document.createElement('div');\n",
              "          docLink.innerHTML = docLinkHtml;\n",
              "          element.appendChild(docLink);\n",
              "        }\n",
              "      </script>\n",
              "    </div>\n",
              "  </div>\n",
              "  "
            ]
          },
          "metadata": {},
          "execution_count": 19
        }
      ]
    },
    {
      "cell_type": "code",
      "source": [
        "# concatenating the dataframes\n",
        "df = pd.concat([pos_sample_df, neg_df], axis=0)\n",
        "# shuffling the rows of the balanced dataframe\n",
        "df = df.sample(frac=1, random_state=34)\n",
        "df"
      ],
      "metadata": {
        "colab": {
          "base_uri": "https://localhost:8080/",
          "height": 424
        },
        "id": "sP6B5XWzfcT-",
        "outputId": "6e6331bb-221e-42d7-b92a-bbe70662f3f1"
      },
      "execution_count": null,
      "outputs": [
        {
          "output_type": "execute_result",
          "data": {
            "text/plain": [
              "     Ratings                                        Full_Review\n",
              "4054       0  Worst. One of my worst thing I have purchased ...\n",
              "2730       0  Good one.. in this price range. Good one... Va...\n",
              "3086       1  Good earphones only issue with speaker. Good e...\n",
              "2919       1  Very good. Sound quality is very goodPerforman...\n",
              "605        0  No durability. Durability is very low shortly ...\n",
              "...      ...                                                ...\n",
              "4303       0                        Boat. Bass quality not good\n",
              "4887       0  Basic starting range  earphone ,average sound ...\n",
              "152        1                 Good ⛵. This is good product of ⛵.\n",
              "1449       0  Product replacement. Problem with remote. My e...\n",
              "2830       0  poor sound. very poor sound quality, zero nois...\n",
              "\n",
              "[1918 rows x 2 columns]"
            ],
            "text/html": [
              "\n",
              "  <div id=\"df-b1b4ed38-59f6-478d-97c2-ec1fd42cdfd7\">\n",
              "    <div class=\"colab-df-container\">\n",
              "      <div>\n",
              "<style scoped>\n",
              "    .dataframe tbody tr th:only-of-type {\n",
              "        vertical-align: middle;\n",
              "    }\n",
              "\n",
              "    .dataframe tbody tr th {\n",
              "        vertical-align: top;\n",
              "    }\n",
              "\n",
              "    .dataframe thead th {\n",
              "        text-align: right;\n",
              "    }\n",
              "</style>\n",
              "<table border=\"1\" class=\"dataframe\">\n",
              "  <thead>\n",
              "    <tr style=\"text-align: right;\">\n",
              "      <th></th>\n",
              "      <th>Ratings</th>\n",
              "      <th>Full_Review</th>\n",
              "    </tr>\n",
              "  </thead>\n",
              "  <tbody>\n",
              "    <tr>\n",
              "      <th>4054</th>\n",
              "      <td>0</td>\n",
              "      <td>Worst. One of my worst thing I have purchased ...</td>\n",
              "    </tr>\n",
              "    <tr>\n",
              "      <th>2730</th>\n",
              "      <td>0</td>\n",
              "      <td>Good one.. in this price range. Good one... Va...</td>\n",
              "    </tr>\n",
              "    <tr>\n",
              "      <th>3086</th>\n",
              "      <td>1</td>\n",
              "      <td>Good earphones only issue with speaker. Good e...</td>\n",
              "    </tr>\n",
              "    <tr>\n",
              "      <th>2919</th>\n",
              "      <td>1</td>\n",
              "      <td>Very good. Sound quality is very goodPerforman...</td>\n",
              "    </tr>\n",
              "    <tr>\n",
              "      <th>605</th>\n",
              "      <td>0</td>\n",
              "      <td>No durability. Durability is very low shortly ...</td>\n",
              "    </tr>\n",
              "    <tr>\n",
              "      <th>...</th>\n",
              "      <td>...</td>\n",
              "      <td>...</td>\n",
              "    </tr>\n",
              "    <tr>\n",
              "      <th>4303</th>\n",
              "      <td>0</td>\n",
              "      <td>Boat. Bass quality not good</td>\n",
              "    </tr>\n",
              "    <tr>\n",
              "      <th>4887</th>\n",
              "      <td>0</td>\n",
              "      <td>Basic starting range  earphone ,average sound ...</td>\n",
              "    </tr>\n",
              "    <tr>\n",
              "      <th>152</th>\n",
              "      <td>1</td>\n",
              "      <td>Good ⛵. This is good product of ⛵.</td>\n",
              "    </tr>\n",
              "    <tr>\n",
              "      <th>1449</th>\n",
              "      <td>0</td>\n",
              "      <td>Product replacement. Problem with remote. My e...</td>\n",
              "    </tr>\n",
              "    <tr>\n",
              "      <th>2830</th>\n",
              "      <td>0</td>\n",
              "      <td>poor sound. very poor sound quality, zero nois...</td>\n",
              "    </tr>\n",
              "  </tbody>\n",
              "</table>\n",
              "<p>1918 rows × 2 columns</p>\n",
              "</div>\n",
              "      <button class=\"colab-df-convert\" onclick=\"convertToInteractive('df-b1b4ed38-59f6-478d-97c2-ec1fd42cdfd7')\"\n",
              "              title=\"Convert this dataframe to an interactive table.\"\n",
              "              style=\"display:none;\">\n",
              "        \n",
              "  <svg xmlns=\"http://www.w3.org/2000/svg\" height=\"24px\"viewBox=\"0 0 24 24\"\n",
              "       width=\"24px\">\n",
              "    <path d=\"M0 0h24v24H0V0z\" fill=\"none\"/>\n",
              "    <path d=\"M18.56 5.44l.94 2.06.94-2.06 2.06-.94-2.06-.94-.94-2.06-.94 2.06-2.06.94zm-11 1L8.5 8.5l.94-2.06 2.06-.94-2.06-.94L8.5 2.5l-.94 2.06-2.06.94zm10 10l.94 2.06.94-2.06 2.06-.94-2.06-.94-.94-2.06-.94 2.06-2.06.94z\"/><path d=\"M17.41 7.96l-1.37-1.37c-.4-.4-.92-.59-1.43-.59-.52 0-1.04.2-1.43.59L10.3 9.45l-7.72 7.72c-.78.78-.78 2.05 0 2.83L4 21.41c.39.39.9.59 1.41.59.51 0 1.02-.2 1.41-.59l7.78-7.78 2.81-2.81c.8-.78.8-2.07 0-2.86zM5.41 20L4 18.59l7.72-7.72 1.47 1.35L5.41 20z\"/>\n",
              "  </svg>\n",
              "      </button>\n",
              "      \n",
              "  <style>\n",
              "    .colab-df-container {\n",
              "      display:flex;\n",
              "      flex-wrap:wrap;\n",
              "      gap: 12px;\n",
              "    }\n",
              "\n",
              "    .colab-df-convert {\n",
              "      background-color: #E8F0FE;\n",
              "      border: none;\n",
              "      border-radius: 50%;\n",
              "      cursor: pointer;\n",
              "      display: none;\n",
              "      fill: #1967D2;\n",
              "      height: 32px;\n",
              "      padding: 0 0 0 0;\n",
              "      width: 32px;\n",
              "    }\n",
              "\n",
              "    .colab-df-convert:hover {\n",
              "      background-color: #E2EBFA;\n",
              "      box-shadow: 0px 1px 2px rgba(60, 64, 67, 0.3), 0px 1px 3px 1px rgba(60, 64, 67, 0.15);\n",
              "      fill: #174EA6;\n",
              "    }\n",
              "\n",
              "    [theme=dark] .colab-df-convert {\n",
              "      background-color: #3B4455;\n",
              "      fill: #D2E3FC;\n",
              "    }\n",
              "\n",
              "    [theme=dark] .colab-df-convert:hover {\n",
              "      background-color: #434B5C;\n",
              "      box-shadow: 0px 1px 3px 1px rgba(0, 0, 0, 0.15);\n",
              "      filter: drop-shadow(0px 1px 2px rgba(0, 0, 0, 0.3));\n",
              "      fill: #FFFFFF;\n",
              "    }\n",
              "  </style>\n",
              "\n",
              "      <script>\n",
              "        const buttonEl =\n",
              "          document.querySelector('#df-b1b4ed38-59f6-478d-97c2-ec1fd42cdfd7 button.colab-df-convert');\n",
              "        buttonEl.style.display =\n",
              "          google.colab.kernel.accessAllowed ? 'block' : 'none';\n",
              "\n",
              "        async function convertToInteractive(key) {\n",
              "          const element = document.querySelector('#df-b1b4ed38-59f6-478d-97c2-ec1fd42cdfd7');\n",
              "          const dataTable =\n",
              "            await google.colab.kernel.invokeFunction('convertToInteractive',\n",
              "                                                     [key], {});\n",
              "          if (!dataTable) return;\n",
              "\n",
              "          const docLinkHtml = 'Like what you see? Visit the ' +\n",
              "            '<a target=\"_blank\" href=https://colab.research.google.com/notebooks/data_table.ipynb>data table notebook</a>'\n",
              "            + ' to learn more about interactive tables.';\n",
              "          element.innerHTML = '';\n",
              "          dataTable['output_type'] = 'display_data';\n",
              "          await google.colab.output.renderOutput(dataTable, element);\n",
              "          const docLink = document.createElement('div');\n",
              "          docLink.innerHTML = docLinkHtml;\n",
              "          element.appendChild(docLink);\n",
              "        }\n",
              "      </script>\n",
              "    </div>\n",
              "  </div>\n",
              "  "
            ]
          },
          "metadata": {},
          "execution_count": 20
        }
      ]
    },
    {
      "cell_type": "code",
      "source": [
        "# chceking for balance in the dataset\n",
        "df.Ratings.value_counts()"
      ],
      "metadata": {
        "colab": {
          "base_uri": "https://localhost:8080/"
        },
        "id": "a0HkaLbLiAbv",
        "outputId": "c9235bed-22ea-42fb-9f75-968c642b1acf"
      },
      "execution_count": null,
      "outputs": [
        {
          "output_type": "execute_result",
          "data": {
            "text/plain": [
              "0    959\n",
              "1    959\n",
              "Name: Ratings, dtype: int64"
            ]
          },
          "metadata": {},
          "execution_count": 21
        }
      ]
    },
    {
      "cell_type": "markdown",
      "source": [
        "## Text Data Preprocessing"
      ],
      "metadata": {
        "id": "U1Uzp6BPebUv"
      }
    },
    {
      "cell_type": "code",
      "source": [
        "!pip install contractions"
      ],
      "metadata": {
        "colab": {
          "base_uri": "https://localhost:8080/"
        },
        "id": "gXXrkL_nLWMY",
        "outputId": "9d05163f-780b-45be-837f-a13e7a9f2d98"
      },
      "execution_count": null,
      "outputs": [
        {
          "output_type": "stream",
          "name": "stdout",
          "text": [
            "Looking in indexes: https://pypi.org/simple, https://us-python.pkg.dev/colab-wheels/public/simple/\n",
            "Requirement already satisfied: contractions in /usr/local/lib/python3.7/dist-packages (0.1.72)\n",
            "Requirement already satisfied: textsearch>=0.0.21 in /usr/local/lib/python3.7/dist-packages (from contractions) (0.0.24)\n",
            "Requirement already satisfied: pyahocorasick in /usr/local/lib/python3.7/dist-packages (from textsearch>=0.0.21->contractions) (1.4.4)\n",
            "Requirement already satisfied: anyascii in /usr/local/lib/python3.7/dist-packages (from textsearch>=0.0.21->contractions) (0.3.1)\n"
          ]
        }
      ]
    },
    {
      "cell_type": "code",
      "source": [
        "import re\n",
        "import nltk\n",
        "from nltk.corpus import stopwords\n",
        "from nltk.stem import WordNetLemmatizer\n",
        "import string\n",
        "import contractions"
      ],
      "metadata": {
        "id": "eDcR70tNZ9oh"
      },
      "execution_count": null,
      "outputs": []
    },
    {
      "cell_type": "code",
      "source": [
        "nltk.download('stopwords')\n",
        "nltk.download('wordnet')\n",
        "nltk.download('omw-1.4')"
      ],
      "metadata": {
        "colab": {
          "base_uri": "https://localhost:8080/"
        },
        "id": "Sh93IiQWWdW2",
        "outputId": "db82a6ab-285b-4574-8e70-5dd65bff539b"
      },
      "execution_count": null,
      "outputs": [
        {
          "output_type": "stream",
          "name": "stderr",
          "text": [
            "[nltk_data] Downloading package stopwords to /root/nltk_data...\n",
            "[nltk_data]   Package stopwords is already up-to-date!\n",
            "[nltk_data] Downloading package wordnet to /root/nltk_data...\n",
            "[nltk_data]   Package wordnet is already up-to-date!\n",
            "[nltk_data] Downloading package omw-1.4 to /root/nltk_data...\n",
            "[nltk_data]   Package omw-1.4 is already up-to-date!\n"
          ]
        },
        {
          "output_type": "execute_result",
          "data": {
            "text/plain": [
              "True"
            ]
          },
          "metadata": {},
          "execution_count": 24
        }
      ]
    },
    {
      "cell_type": "code",
      "source": [
        "def basic_cleaning(text):\n",
        "    # convert to lower case\n",
        "    text = text.lower()   \n",
        "    # removing period and replacing with space\n",
        "    text = re.sub('\\.', ' ', text) \n",
        "    # removing all the punctuations using string module but not newline characters\n",
        "    text = re.sub('[%s]' % re.escape(string.punctuation), '', text)\n",
        "    # removing all words that have digits in them\n",
        "    text = re.sub('\\w*\\d\\w*', '', text)\n",
        "    # removing all newline characters\n",
        "    text = re.sub('\\n', '', text)\n",
        "    # only allowing a to z and A to Z\n",
        "    text = re.sub('[^a-zA-Z]', ' ', text)\n",
        "    return text\n",
        "\n",
        "def advanced_cleaning(text):\n",
        "    # expands contracted words\n",
        "    text = contractions.fix(text)\n",
        "    # removing the english stopwords\n",
        "    stop = set(stopwords.words('english'))\n",
        "    text = \" \".join([word for word in text.split() if word not in stop])\n",
        "    # doing lemmatization\n",
        "    lemmatizer = WordNetLemmatizer()\n",
        "    text = \" \".join([lemmatizer.lemmatize(word) for word in text.split()])\n",
        "    # removing extra spaces\n",
        "    text = re.sub(' +', ' ', text)\n",
        "    return text"
      ],
      "metadata": {
        "id": "ezawW72jk2XG"
      },
      "execution_count": null,
      "outputs": []
    },
    {
      "cell_type": "code",
      "source": [
        "df['Full_Review']"
      ],
      "metadata": {
        "colab": {
          "base_uri": "https://localhost:8080/"
        },
        "id": "_4JHVVeiPsQm",
        "outputId": "8f136f84-2260-4e3e-e76b-6705487ad7d4"
      },
      "execution_count": null,
      "outputs": [
        {
          "output_type": "execute_result",
          "data": {
            "text/plain": [
              "4054    Worst. One of my worst thing I have purchased ...\n",
              "2730    Good one.. in this price range. Good one... Va...\n",
              "3086    Good earphones only issue with speaker. Good e...\n",
              "2919    Very good. Sound quality is very goodPerforman...\n",
              "605     No durability. Durability is very low shortly ...\n",
              "                              ...                        \n",
              "4303                          Boat. Bass quality not good\n",
              "4887    Basic starting range  earphone ,average sound ...\n",
              "152                    Good ⛵. This is good product of ⛵.\n",
              "1449    Product replacement. Problem with remote. My e...\n",
              "2830    poor sound. very poor sound quality, zero nois...\n",
              "Name: Full_Review, Length: 1918, dtype: object"
            ]
          },
          "metadata": {},
          "execution_count": 26
        }
      ]
    },
    {
      "cell_type": "code",
      "source": [
        "df['Full_Review'] = df['Full_Review'].apply(basic_cleaning)\n",
        "df['Full_Review'] = df['Full_Review'].apply(advanced_cleaning)"
      ],
      "metadata": {
        "id": "QEMlDaMZkCzz"
      },
      "execution_count": null,
      "outputs": []
    },
    {
      "cell_type": "code",
      "source": [
        "df['Full_Review']"
      ],
      "metadata": {
        "id": "-Di4P4E1kzRE",
        "colab": {
          "base_uri": "https://localhost:8080/"
        },
        "outputId": "d7b48a6b-2949-4b84-f6a4-aab07c8a8278"
      },
      "execution_count": null,
      "outputs": [
        {
          "output_type": "execute_result",
          "data": {
            "text/plain": [
              "4054    worst one worst thing purchased one side earph...\n",
              "2730            good one price range good one value money\n",
              "3086    good earphone issue speaker good earphone issu...\n",
              "2919              good sound quality goodperformance good\n",
              "605     durability durability low shortly working got ...\n",
              "                              ...                        \n",
              "4303                               boat bass quality good\n",
              "4887    basic starting range earphone average sound qu...\n",
              "152                                     good good product\n",
              "1449    product replacement problem remote earphone re...\n",
              "2830    poor sound poor sound quality zero noise cance...\n",
              "Name: Full_Review, Length: 1918, dtype: object"
            ]
          },
          "metadata": {},
          "execution_count": 28
        }
      ]
    },
    {
      "cell_type": "code",
      "source": [
        "df.isna().sum()"
      ],
      "metadata": {
        "colab": {
          "base_uri": "https://localhost:8080/"
        },
        "id": "-ZHY_tfqOWRN",
        "outputId": "6c8cbfd5-c1f4-4b91-a151-eca2c0024dbe"
      },
      "execution_count": null,
      "outputs": [
        {
          "output_type": "execute_result",
          "data": {
            "text/plain": [
              "Ratings        0\n",
              "Full_Review    0\n",
              "dtype: int64"
            ]
          },
          "metadata": {},
          "execution_count": 29
        }
      ]
    },
    {
      "cell_type": "markdown",
      "source": [
        "## Word Embeddings\n",
        "Using CountVectorizer to embed the words"
      ],
      "metadata": {
        "id": "rilXXpLkZEhW"
      }
    },
    {
      "cell_type": "code",
      "source": [
        "from sklearn.feature_extraction.text import CountVectorizer"
      ],
      "metadata": {
        "id": "sLQBhtOIZENf"
      },
      "execution_count": null,
      "outputs": []
    },
    {
      "cell_type": "code",
      "source": [
        "vec = CountVectorizer()\n",
        "X = vec.fit_transform(df[\"Full_Review\"])\n",
        "X"
      ],
      "metadata": {
        "colab": {
          "base_uri": "https://localhost:8080/"
        },
        "id": "1N9DummUU-ye",
        "outputId": "824b0c49-ad29-4f0c-9dfa-0ef35b737535"
      },
      "execution_count": null,
      "outputs": [
        {
          "output_type": "execute_result",
          "data": {
            "text/plain": [
              "<1918x3500 sparse matrix of type '<class 'numpy.int64'>'\n",
              "\twith 24913 stored elements in Compressed Sparse Row format>"
            ]
          },
          "metadata": {},
          "execution_count": 31
        }
      ]
    },
    {
      "cell_type": "code",
      "source": [
        "vec.get_feature_names_out()"
      ],
      "metadata": {
        "colab": {
          "base_uri": "https://localhost:8080/"
        },
        "id": "1te19U39Zuq8",
        "outputId": "24180df7-db2c-461e-b8c8-357e23d4fae1"
      },
      "execution_count": null,
      "outputs": [
        {
          "output_type": "execute_result",
          "data": {
            "text/plain": [
              "array(['aa', 'aacha', 'aaj', ..., 'zebronics', 'zero', 'zoom'],\n",
              "      dtype=object)"
            ]
          },
          "metadata": {},
          "execution_count": 32
        }
      ]
    },
    {
      "cell_type": "code",
      "source": [
        "X = pd.DataFrame(X.toarray(), columns=vec.get_feature_names_out())\n",
        "X"
      ],
      "metadata": {
        "colab": {
          "base_uri": "https://localhost:8080/",
          "height": 424
        },
        "id": "fgPZdSNJS8Pt",
        "outputId": "46c6b282-dabe-4337-d568-91ff3fec1643"
      },
      "execution_count": null,
      "outputs": [
        {
          "output_type": "execute_result",
          "data": {
            "text/plain": [
              "      aa  aacha  aaj  aati  aawaj  ab  abhi  abi  abilitiesnot  able  ...  \\\n",
              "0      0      0    0     0      0   0     0    0             0     0  ...   \n",
              "1      0      0    0     0      0   0     0    0             0     0  ...   \n",
              "2      0      0    0     0      0   0     0    0             0     0  ...   \n",
              "3      0      0    0     0      0   0     0    0             0     0  ...   \n",
              "4      0      0    0     0      0   0     0    0             0     0  ...   \n",
              "...   ..    ...  ...   ...    ...  ..   ...  ...           ...   ...  ...   \n",
              "1913   0      0    0     0      0   0     0    0             0     0  ...   \n",
              "1914   0      0    0     0      0   0     0    0             0     0  ...   \n",
              "1915   0      0    0     0      0   0     0    0             0     0  ...   \n",
              "1916   0      0    0     0      0   0     0    0             0     0  ...   \n",
              "1917   0      0    0     0      0   0     0    0             0     0  ...   \n",
              "\n",
              "      youtuber  yr  ysplitter  yt  yuk  yyes  zebronic  zebronics  zero  zoom  \n",
              "0            0   0          0   0    0     0         0          0     0     0  \n",
              "1            0   0          0   0    0     0         0          0     0     0  \n",
              "2            0   0          0   0    0     0         0          0     0     0  \n",
              "3            0   0          0   0    0     0         0          0     0     0  \n",
              "4            0   0          0   0    0     0         0          0     0     0  \n",
              "...        ...  ..        ...  ..  ...   ...       ...        ...   ...   ...  \n",
              "1913         0   0          0   0    0     0         0          0     0     0  \n",
              "1914         0   0          0   0    0     0         0          0     0     0  \n",
              "1915         0   0          0   0    0     0         0          0     0     0  \n",
              "1916         0   0          0   0    0     0         0          0     0     0  \n",
              "1917         0   0          0   0    0     0         0          0     1     0  \n",
              "\n",
              "[1918 rows x 3500 columns]"
            ],
            "text/html": [
              "\n",
              "  <div id=\"df-0d07f944-22be-415d-80a3-988d0ce4e973\">\n",
              "    <div class=\"colab-df-container\">\n",
              "      <div>\n",
              "<style scoped>\n",
              "    .dataframe tbody tr th:only-of-type {\n",
              "        vertical-align: middle;\n",
              "    }\n",
              "\n",
              "    .dataframe tbody tr th {\n",
              "        vertical-align: top;\n",
              "    }\n",
              "\n",
              "    .dataframe thead th {\n",
              "        text-align: right;\n",
              "    }\n",
              "</style>\n",
              "<table border=\"1\" class=\"dataframe\">\n",
              "  <thead>\n",
              "    <tr style=\"text-align: right;\">\n",
              "      <th></th>\n",
              "      <th>aa</th>\n",
              "      <th>aacha</th>\n",
              "      <th>aaj</th>\n",
              "      <th>aati</th>\n",
              "      <th>aawaj</th>\n",
              "      <th>ab</th>\n",
              "      <th>abhi</th>\n",
              "      <th>abi</th>\n",
              "      <th>abilitiesnot</th>\n",
              "      <th>able</th>\n",
              "      <th>...</th>\n",
              "      <th>youtuber</th>\n",
              "      <th>yr</th>\n",
              "      <th>ysplitter</th>\n",
              "      <th>yt</th>\n",
              "      <th>yuk</th>\n",
              "      <th>yyes</th>\n",
              "      <th>zebronic</th>\n",
              "      <th>zebronics</th>\n",
              "      <th>zero</th>\n",
              "      <th>zoom</th>\n",
              "    </tr>\n",
              "  </thead>\n",
              "  <tbody>\n",
              "    <tr>\n",
              "      <th>0</th>\n",
              "      <td>0</td>\n",
              "      <td>0</td>\n",
              "      <td>0</td>\n",
              "      <td>0</td>\n",
              "      <td>0</td>\n",
              "      <td>0</td>\n",
              "      <td>0</td>\n",
              "      <td>0</td>\n",
              "      <td>0</td>\n",
              "      <td>0</td>\n",
              "      <td>...</td>\n",
              "      <td>0</td>\n",
              "      <td>0</td>\n",
              "      <td>0</td>\n",
              "      <td>0</td>\n",
              "      <td>0</td>\n",
              "      <td>0</td>\n",
              "      <td>0</td>\n",
              "      <td>0</td>\n",
              "      <td>0</td>\n",
              "      <td>0</td>\n",
              "    </tr>\n",
              "    <tr>\n",
              "      <th>1</th>\n",
              "      <td>0</td>\n",
              "      <td>0</td>\n",
              "      <td>0</td>\n",
              "      <td>0</td>\n",
              "      <td>0</td>\n",
              "      <td>0</td>\n",
              "      <td>0</td>\n",
              "      <td>0</td>\n",
              "      <td>0</td>\n",
              "      <td>0</td>\n",
              "      <td>...</td>\n",
              "      <td>0</td>\n",
              "      <td>0</td>\n",
              "      <td>0</td>\n",
              "      <td>0</td>\n",
              "      <td>0</td>\n",
              "      <td>0</td>\n",
              "      <td>0</td>\n",
              "      <td>0</td>\n",
              "      <td>0</td>\n",
              "      <td>0</td>\n",
              "    </tr>\n",
              "    <tr>\n",
              "      <th>2</th>\n",
              "      <td>0</td>\n",
              "      <td>0</td>\n",
              "      <td>0</td>\n",
              "      <td>0</td>\n",
              "      <td>0</td>\n",
              "      <td>0</td>\n",
              "      <td>0</td>\n",
              "      <td>0</td>\n",
              "      <td>0</td>\n",
              "      <td>0</td>\n",
              "      <td>...</td>\n",
              "      <td>0</td>\n",
              "      <td>0</td>\n",
              "      <td>0</td>\n",
              "      <td>0</td>\n",
              "      <td>0</td>\n",
              "      <td>0</td>\n",
              "      <td>0</td>\n",
              "      <td>0</td>\n",
              "      <td>0</td>\n",
              "      <td>0</td>\n",
              "    </tr>\n",
              "    <tr>\n",
              "      <th>3</th>\n",
              "      <td>0</td>\n",
              "      <td>0</td>\n",
              "      <td>0</td>\n",
              "      <td>0</td>\n",
              "      <td>0</td>\n",
              "      <td>0</td>\n",
              "      <td>0</td>\n",
              "      <td>0</td>\n",
              "      <td>0</td>\n",
              "      <td>0</td>\n",
              "      <td>...</td>\n",
              "      <td>0</td>\n",
              "      <td>0</td>\n",
              "      <td>0</td>\n",
              "      <td>0</td>\n",
              "      <td>0</td>\n",
              "      <td>0</td>\n",
              "      <td>0</td>\n",
              "      <td>0</td>\n",
              "      <td>0</td>\n",
              "      <td>0</td>\n",
              "    </tr>\n",
              "    <tr>\n",
              "      <th>4</th>\n",
              "      <td>0</td>\n",
              "      <td>0</td>\n",
              "      <td>0</td>\n",
              "      <td>0</td>\n",
              "      <td>0</td>\n",
              "      <td>0</td>\n",
              "      <td>0</td>\n",
              "      <td>0</td>\n",
              "      <td>0</td>\n",
              "      <td>0</td>\n",
              "      <td>...</td>\n",
              "      <td>0</td>\n",
              "      <td>0</td>\n",
              "      <td>0</td>\n",
              "      <td>0</td>\n",
              "      <td>0</td>\n",
              "      <td>0</td>\n",
              "      <td>0</td>\n",
              "      <td>0</td>\n",
              "      <td>0</td>\n",
              "      <td>0</td>\n",
              "    </tr>\n",
              "    <tr>\n",
              "      <th>...</th>\n",
              "      <td>...</td>\n",
              "      <td>...</td>\n",
              "      <td>...</td>\n",
              "      <td>...</td>\n",
              "      <td>...</td>\n",
              "      <td>...</td>\n",
              "      <td>...</td>\n",
              "      <td>...</td>\n",
              "      <td>...</td>\n",
              "      <td>...</td>\n",
              "      <td>...</td>\n",
              "      <td>...</td>\n",
              "      <td>...</td>\n",
              "      <td>...</td>\n",
              "      <td>...</td>\n",
              "      <td>...</td>\n",
              "      <td>...</td>\n",
              "      <td>...</td>\n",
              "      <td>...</td>\n",
              "      <td>...</td>\n",
              "      <td>...</td>\n",
              "    </tr>\n",
              "    <tr>\n",
              "      <th>1913</th>\n",
              "      <td>0</td>\n",
              "      <td>0</td>\n",
              "      <td>0</td>\n",
              "      <td>0</td>\n",
              "      <td>0</td>\n",
              "      <td>0</td>\n",
              "      <td>0</td>\n",
              "      <td>0</td>\n",
              "      <td>0</td>\n",
              "      <td>0</td>\n",
              "      <td>...</td>\n",
              "      <td>0</td>\n",
              "      <td>0</td>\n",
              "      <td>0</td>\n",
              "      <td>0</td>\n",
              "      <td>0</td>\n",
              "      <td>0</td>\n",
              "      <td>0</td>\n",
              "      <td>0</td>\n",
              "      <td>0</td>\n",
              "      <td>0</td>\n",
              "    </tr>\n",
              "    <tr>\n",
              "      <th>1914</th>\n",
              "      <td>0</td>\n",
              "      <td>0</td>\n",
              "      <td>0</td>\n",
              "      <td>0</td>\n",
              "      <td>0</td>\n",
              "      <td>0</td>\n",
              "      <td>0</td>\n",
              "      <td>0</td>\n",
              "      <td>0</td>\n",
              "      <td>0</td>\n",
              "      <td>...</td>\n",
              "      <td>0</td>\n",
              "      <td>0</td>\n",
              "      <td>0</td>\n",
              "      <td>0</td>\n",
              "      <td>0</td>\n",
              "      <td>0</td>\n",
              "      <td>0</td>\n",
              "      <td>0</td>\n",
              "      <td>0</td>\n",
              "      <td>0</td>\n",
              "    </tr>\n",
              "    <tr>\n",
              "      <th>1915</th>\n",
              "      <td>0</td>\n",
              "      <td>0</td>\n",
              "      <td>0</td>\n",
              "      <td>0</td>\n",
              "      <td>0</td>\n",
              "      <td>0</td>\n",
              "      <td>0</td>\n",
              "      <td>0</td>\n",
              "      <td>0</td>\n",
              "      <td>0</td>\n",
              "      <td>...</td>\n",
              "      <td>0</td>\n",
              "      <td>0</td>\n",
              "      <td>0</td>\n",
              "      <td>0</td>\n",
              "      <td>0</td>\n",
              "      <td>0</td>\n",
              "      <td>0</td>\n",
              "      <td>0</td>\n",
              "      <td>0</td>\n",
              "      <td>0</td>\n",
              "    </tr>\n",
              "    <tr>\n",
              "      <th>1916</th>\n",
              "      <td>0</td>\n",
              "      <td>0</td>\n",
              "      <td>0</td>\n",
              "      <td>0</td>\n",
              "      <td>0</td>\n",
              "      <td>0</td>\n",
              "      <td>0</td>\n",
              "      <td>0</td>\n",
              "      <td>0</td>\n",
              "      <td>0</td>\n",
              "      <td>...</td>\n",
              "      <td>0</td>\n",
              "      <td>0</td>\n",
              "      <td>0</td>\n",
              "      <td>0</td>\n",
              "      <td>0</td>\n",
              "      <td>0</td>\n",
              "      <td>0</td>\n",
              "      <td>0</td>\n",
              "      <td>0</td>\n",
              "      <td>0</td>\n",
              "    </tr>\n",
              "    <tr>\n",
              "      <th>1917</th>\n",
              "      <td>0</td>\n",
              "      <td>0</td>\n",
              "      <td>0</td>\n",
              "      <td>0</td>\n",
              "      <td>0</td>\n",
              "      <td>0</td>\n",
              "      <td>0</td>\n",
              "      <td>0</td>\n",
              "      <td>0</td>\n",
              "      <td>0</td>\n",
              "      <td>...</td>\n",
              "      <td>0</td>\n",
              "      <td>0</td>\n",
              "      <td>0</td>\n",
              "      <td>0</td>\n",
              "      <td>0</td>\n",
              "      <td>0</td>\n",
              "      <td>0</td>\n",
              "      <td>0</td>\n",
              "      <td>1</td>\n",
              "      <td>0</td>\n",
              "    </tr>\n",
              "  </tbody>\n",
              "</table>\n",
              "<p>1918 rows × 3500 columns</p>\n",
              "</div>\n",
              "      <button class=\"colab-df-convert\" onclick=\"convertToInteractive('df-0d07f944-22be-415d-80a3-988d0ce4e973')\"\n",
              "              title=\"Convert this dataframe to an interactive table.\"\n",
              "              style=\"display:none;\">\n",
              "        \n",
              "  <svg xmlns=\"http://www.w3.org/2000/svg\" height=\"24px\"viewBox=\"0 0 24 24\"\n",
              "       width=\"24px\">\n",
              "    <path d=\"M0 0h24v24H0V0z\" fill=\"none\"/>\n",
              "    <path d=\"M18.56 5.44l.94 2.06.94-2.06 2.06-.94-2.06-.94-.94-2.06-.94 2.06-2.06.94zm-11 1L8.5 8.5l.94-2.06 2.06-.94-2.06-.94L8.5 2.5l-.94 2.06-2.06.94zm10 10l.94 2.06.94-2.06 2.06-.94-2.06-.94-.94-2.06-.94 2.06-2.06.94z\"/><path d=\"M17.41 7.96l-1.37-1.37c-.4-.4-.92-.59-1.43-.59-.52 0-1.04.2-1.43.59L10.3 9.45l-7.72 7.72c-.78.78-.78 2.05 0 2.83L4 21.41c.39.39.9.59 1.41.59.51 0 1.02-.2 1.41-.59l7.78-7.78 2.81-2.81c.8-.78.8-2.07 0-2.86zM5.41 20L4 18.59l7.72-7.72 1.47 1.35L5.41 20z\"/>\n",
              "  </svg>\n",
              "      </button>\n",
              "      \n",
              "  <style>\n",
              "    .colab-df-container {\n",
              "      display:flex;\n",
              "      flex-wrap:wrap;\n",
              "      gap: 12px;\n",
              "    }\n",
              "\n",
              "    .colab-df-convert {\n",
              "      background-color: #E8F0FE;\n",
              "      border: none;\n",
              "      border-radius: 50%;\n",
              "      cursor: pointer;\n",
              "      display: none;\n",
              "      fill: #1967D2;\n",
              "      height: 32px;\n",
              "      padding: 0 0 0 0;\n",
              "      width: 32px;\n",
              "    }\n",
              "\n",
              "    .colab-df-convert:hover {\n",
              "      background-color: #E2EBFA;\n",
              "      box-shadow: 0px 1px 2px rgba(60, 64, 67, 0.3), 0px 1px 3px 1px rgba(60, 64, 67, 0.15);\n",
              "      fill: #174EA6;\n",
              "    }\n",
              "\n",
              "    [theme=dark] .colab-df-convert {\n",
              "      background-color: #3B4455;\n",
              "      fill: #D2E3FC;\n",
              "    }\n",
              "\n",
              "    [theme=dark] .colab-df-convert:hover {\n",
              "      background-color: #434B5C;\n",
              "      box-shadow: 0px 1px 3px 1px rgba(0, 0, 0, 0.15);\n",
              "      filter: drop-shadow(0px 1px 2px rgba(0, 0, 0, 0.3));\n",
              "      fill: #FFFFFF;\n",
              "    }\n",
              "  </style>\n",
              "\n",
              "      <script>\n",
              "        const buttonEl =\n",
              "          document.querySelector('#df-0d07f944-22be-415d-80a3-988d0ce4e973 button.colab-df-convert');\n",
              "        buttonEl.style.display =\n",
              "          google.colab.kernel.accessAllowed ? 'block' : 'none';\n",
              "\n",
              "        async function convertToInteractive(key) {\n",
              "          const element = document.querySelector('#df-0d07f944-22be-415d-80a3-988d0ce4e973');\n",
              "          const dataTable =\n",
              "            await google.colab.kernel.invokeFunction('convertToInteractive',\n",
              "                                                     [key], {});\n",
              "          if (!dataTable) return;\n",
              "\n",
              "          const docLinkHtml = 'Like what you see? Visit the ' +\n",
              "            '<a target=\"_blank\" href=https://colab.research.google.com/notebooks/data_table.ipynb>data table notebook</a>'\n",
              "            + ' to learn more about interactive tables.';\n",
              "          element.innerHTML = '';\n",
              "          dataTable['output_type'] = 'display_data';\n",
              "          await google.colab.output.renderOutput(dataTable, element);\n",
              "          const docLink = document.createElement('div');\n",
              "          docLink.innerHTML = docLinkHtml;\n",
              "          element.appendChild(docLink);\n",
              "        }\n",
              "      </script>\n",
              "    </div>\n",
              "  </div>\n",
              "  "
            ]
          },
          "metadata": {},
          "execution_count": 33
        }
      ]
    },
    {
      "cell_type": "code",
      "source": [
        "y = df['Ratings']\n",
        "y"
      ],
      "metadata": {
        "colab": {
          "base_uri": "https://localhost:8080/"
        },
        "id": "qqzBJw8iZ1PT",
        "outputId": "2c534728-6b60-4ee0-b61c-735a6104722e"
      },
      "execution_count": null,
      "outputs": [
        {
          "output_type": "execute_result",
          "data": {
            "text/plain": [
              "4054    0\n",
              "2730    0\n",
              "3086    1\n",
              "2919    1\n",
              "605     0\n",
              "       ..\n",
              "4303    0\n",
              "4887    0\n",
              "152     1\n",
              "1449    0\n",
              "2830    0\n",
              "Name: Ratings, Length: 1918, dtype: category\n",
              "Categories (2, int64): [0 < 1]"
            ]
          },
          "metadata": {},
          "execution_count": 34
        }
      ]
    },
    {
      "cell_type": "code",
      "source": [
        "from sklearn.model_selection import train_test_split"
      ],
      "metadata": {
        "id": "oUkaZ4l0aLTs"
      },
      "execution_count": null,
      "outputs": []
    },
    {
      "cell_type": "code",
      "source": [
        "X_train, X_test, y_train, y_test = train_test_split(X, y, shuffle=True, random_state=5, test_size=0.2)"
      ],
      "metadata": {
        "id": "C9I_4Nu9ckdL"
      },
      "execution_count": null,
      "outputs": []
    },
    {
      "cell_type": "code",
      "source": [
        "print('Shape of Train data : ', X_train.shape)\n",
        "print('Shape of Test data : ', X_test.shape)"
      ],
      "metadata": {
        "colab": {
          "base_uri": "https://localhost:8080/"
        },
        "id": "EoETVwAIc3g6",
        "outputId": "eee8f4a9-99f6-4a02-9b03-1300cbc6c252"
      },
      "execution_count": null,
      "outputs": [
        {
          "output_type": "stream",
          "name": "stdout",
          "text": [
            "Shape of Train data :  (1534, 3500)\n",
            "Shape of Test data :  (384, 3500)\n"
          ]
        }
      ]
    },
    {
      "cell_type": "markdown",
      "source": [
        "## Modelling\n",
        "We will be trying out various classification models, and find that works best for us."
      ],
      "metadata": {
        "id": "XJnVxm3ldkz0"
      }
    },
    {
      "cell_type": "code",
      "source": [
        "from sklearn.metrics import classification_report, confusion_matrix\n",
        "import matplotlib.pyplot as plt\n",
        "import seaborn as sns"
      ],
      "metadata": {
        "id": "JRZrgMHVeS8M"
      },
      "execution_count": null,
      "outputs": []
    },
    {
      "cell_type": "code",
      "source": [
        "def my_classification_report(p_train, p_test, y_train, y_test):\n",
        "    print('Training : \\n', classification_report(y_train, p_train))\n",
        "    print('\\nTesting : \\n', classification_report(y_test, p_test))"
      ],
      "metadata": {
        "id": "xoxlulpve_O0"
      },
      "execution_count": null,
      "outputs": []
    },
    {
      "cell_type": "markdown",
      "source": [
        "### 1. Naive Bayes"
      ],
      "metadata": {
        "id": "HU1x9EU4dvj9"
      }
    },
    {
      "cell_type": "code",
      "source": [
        "from sklearn.naive_bayes import GaussianNB, MultinomialNB"
      ],
      "metadata": {
        "id": "CoN-Lf18dH6N"
      },
      "execution_count": null,
      "outputs": []
    },
    {
      "cell_type": "code",
      "source": [
        "clf = GaussianNB()\n",
        "clf.fit(X_train, y_train.ravel())"
      ],
      "metadata": {
        "colab": {
          "base_uri": "https://localhost:8080/"
        },
        "id": "inZUlpzcdDXj",
        "outputId": "5247385f-6799-498d-c11b-a4f721b95e41"
      },
      "execution_count": null,
      "outputs": [
        {
          "output_type": "execute_result",
          "data": {
            "text/plain": [
              "GaussianNB()"
            ]
          },
          "metadata": {},
          "execution_count": 41
        }
      ]
    },
    {
      "cell_type": "code",
      "source": [
        "y_pred = clf.predict(X_test)\n",
        "y_pred.shape"
      ],
      "metadata": {
        "colab": {
          "base_uri": "https://localhost:8080/"
        },
        "id": "JGPwIp96eIDM",
        "outputId": "ed292054-3b90-49a6-935a-6daaaf04db69"
      },
      "execution_count": null,
      "outputs": [
        {
          "output_type": "execute_result",
          "data": {
            "text/plain": [
              "(384,)"
            ]
          },
          "metadata": {},
          "execution_count": 42
        }
      ]
    },
    {
      "cell_type": "code",
      "source": [
        "my_classification_report(clf.predict(X_train), y_pred, y_train, y_test)"
      ],
      "metadata": {
        "colab": {
          "base_uri": "https://localhost:8080/"
        },
        "id": "vxMdeYy8hZuE",
        "outputId": "e8ad7039-3228-41dc-eec0-a457bb97e9f9"
      },
      "execution_count": null,
      "outputs": [
        {
          "output_type": "stream",
          "name": "stdout",
          "text": [
            "Training : \n",
            "               precision    recall  f1-score   support\n",
            "\n",
            "           0       0.96      0.77      0.85       762\n",
            "           1       0.81      0.97      0.88       772\n",
            "\n",
            "    accuracy                           0.87      1534\n",
            "   macro avg       0.88      0.87      0.87      1534\n",
            "weighted avg       0.88      0.87      0.87      1534\n",
            "\n",
            "\n",
            "Testing : \n",
            "               precision    recall  f1-score   support\n",
            "\n",
            "           0       0.63      0.45      0.53       197\n",
            "           1       0.55      0.72      0.62       187\n",
            "\n",
            "    accuracy                           0.58       384\n",
            "   macro avg       0.59      0.58      0.57       384\n",
            "weighted avg       0.59      0.58      0.57       384\n",
            "\n"
          ]
        }
      ]
    },
    {
      "cell_type": "code",
      "source": [
        "classes = [0,1]\n",
        "cm = confusion_matrix(y_test, y_pred, labels=classes)\n",
        "sns.heatmap(cm, annot=True)\n",
        "plt.title(\"Confusion Matrix for Test Data\")\n",
        "plt.show()"
      ],
      "metadata": {
        "colab": {
          "base_uri": "https://localhost:8080/",
          "height": 281
        },
        "id": "7ZMkS-1QePm7",
        "outputId": "788ce66a-8fed-4711-c73f-24ef81c61f97"
      },
      "execution_count": null,
      "outputs": [
        {
          "output_type": "display_data",
          "data": {
            "text/plain": [
              "<Figure size 432x288 with 2 Axes>"
            ],
            "image/png": "[encoded data removed]"
          },
          "metadata": {
            "needs_background": "light"
          }
        }
      ]
    },
    {
      "cell_type": "markdown",
      "source": [
        "### 2. Logistic Regression"
      ],
      "metadata": {
        "id": "jbtjO_hFsYPr"
      }
    },
    {
      "cell_type": "code",
      "source": [
        "from sklearn.linear_model import LogisticRegression"
      ],
      "metadata": {
        "id": "UjgcYGMle4RN"
      },
      "execution_count": null,
      "outputs": []
    },
    {
      "cell_type": "code",
      "source": [
        "clf = LogisticRegression()\n",
        "clf.fit(X_train, y_train)"
      ],
      "metadata": {
        "colab": {
          "base_uri": "https://localhost:8080/"
        },
        "id": "GsqJqEThshHH",
        "outputId": "7b200f61-a5fc-4fa3-b0b4-23278b6d4284"
      },
      "execution_count": null,
      "outputs": [
        {
          "output_type": "execute_result",
          "data": {
            "text/plain": [
              "LogisticRegression()"
            ]
          },
          "metadata": {},
          "execution_count": 46
        }
      ]
    },
    {
      "cell_type": "code",
      "source": [
        "y_pred = clf.predict(X_test)\n",
        "y_pred.shape"
      ],
      "metadata": {
        "colab": {
          "base_uri": "https://localhost:8080/"
        },
        "id": "5sRLB3SZsqEx",
        "outputId": "43961ec2-8f3e-467b-cf11-1014a85e1755"
      },
      "execution_count": null,
      "outputs": [
        {
          "output_type": "execute_result",
          "data": {
            "text/plain": [
              "(384,)"
            ]
          },
          "metadata": {},
          "execution_count": 47
        }
      ]
    },
    {
      "cell_type": "code",
      "source": [
        "my_classification_report(clf.predict(X_train), y_pred, y_train, y_test)"
      ],
      "metadata": {
        "colab": {
          "base_uri": "https://localhost:8080/"
        },
        "id": "7Rup1HgYsyQR",
        "outputId": "3a2b6762-2518-436d-a399-4e6799c72d42"
      },
      "execution_count": null,
      "outputs": [
        {
          "output_type": "stream",
          "name": "stdout",
          "text": [
            "Training : \n",
            "               precision    recall  f1-score   support\n",
            "\n",
            "           0       0.93      0.90      0.92       762\n",
            "           1       0.90      0.94      0.92       772\n",
            "\n",
            "    accuracy                           0.92      1534\n",
            "   macro avg       0.92      0.92      0.92      1534\n",
            "weighted avg       0.92      0.92      0.92      1534\n",
            "\n",
            "\n",
            "Testing : \n",
            "               precision    recall  f1-score   support\n",
            "\n",
            "           0       0.77      0.76      0.76       197\n",
            "           1       0.75      0.76      0.76       187\n",
            "\n",
            "    accuracy                           0.76       384\n",
            "   macro avg       0.76      0.76      0.76       384\n",
            "weighted avg       0.76      0.76      0.76       384\n",
            "\n"
          ]
        }
      ]
    },
    {
      "cell_type": "code",
      "source": [
        "classes = [0,1]\n",
        "cm = confusion_matrix(y_test, y_pred, labels=classes)\n",
        "sns.heatmap(cm, annot=True)\n",
        "plt.title(\"Confusion Matrix for Test Data\")\n",
        "plt.show()"
      ],
      "metadata": {
        "colab": {
          "base_uri": "https://localhost:8080/",
          "height": 281
        },
        "id": "gf_0lUuds2Fo",
        "outputId": "ca89ec76-2e85-402e-82f6-1ec0f60135ba"
      },
      "execution_count": null,
      "outputs": [
        {
          "output_type": "display_data",
          "data": {
            "text/plain": [
              "<Figure size 432x288 with 2 Axes>"
            ],
            "image/png": "[encoded data removed]"
          },
          "metadata": {
            "needs_background": "light"
          }
        }
      ]
    },
    {
      "cell_type": "markdown",
      "source": [
        "### 3. Decision Tree"
      ],
      "metadata": {
        "id": "2JLm-tsbuL77"
      }
    },
    {
      "cell_type": "code",
      "source": [
        "from sklearn.tree import DecisionTreeClassifier"
      ],
      "metadata": {
        "id": "6EgynUjwtgcB"
      },
      "execution_count": null,
      "outputs": []
    },
    {
      "cell_type": "code",
      "source": [
        "clf = DecisionTreeClassifier(max_depth=6)\n",
        "clf.fit(X_train, y_train)"
      ],
      "metadata": {
        "colab": {
          "base_uri": "https://localhost:8080/"
        },
        "id": "QrcuKV8mu-iQ",
        "outputId": "7ed422ea-f6af-4fa5-f9c3-6da5d1fb68d2"
      },
      "execution_count": null,
      "outputs": [
        {
          "output_type": "execute_result",
          "data": {
            "text/plain": [
              "DecisionTreeClassifier(max_depth=6)"
            ]
          },
          "metadata": {},
          "execution_count": 51
        }
      ]
    },
    {
      "cell_type": "code",
      "source": [
        "y_pred = clf.predict(X_test)\n",
        "y_pred.shape"
      ],
      "metadata": {
        "colab": {
          "base_uri": "https://localhost:8080/"
        },
        "outputId": "dfff84e0-27d2-4bb5-854f-9bafd48b20ea",
        "id": "pj84J8EvwA_m"
      },
      "execution_count": null,
      "outputs": [
        {
          "output_type": "execute_result",
          "data": {
            "text/plain": [
              "(384,)"
            ]
          },
          "metadata": {},
          "execution_count": 52
        }
      ]
    },
    {
      "cell_type": "code",
      "source": [
        "my_classification_report(clf.predict(X_train), y_pred, y_train, y_test)"
      ],
      "metadata": {
        "colab": {
          "base_uri": "https://localhost:8080/"
        },
        "outputId": "bee5d804-7b36-43f6-dd47-7b4f051626b3",
        "id": "30CoW-_LwA_n"
      },
      "execution_count": null,
      "outputs": [
        {
          "output_type": "stream",
          "name": "stdout",
          "text": [
            "Training : \n",
            "               precision    recall  f1-score   support\n",
            "\n",
            "           0       0.76      0.65      0.70       762\n",
            "           1       0.70      0.80      0.75       772\n",
            "\n",
            "    accuracy                           0.73      1534\n",
            "   macro avg       0.73      0.73      0.72      1534\n",
            "weighted avg       0.73      0.73      0.72      1534\n",
            "\n",
            "\n",
            "Testing : \n",
            "               precision    recall  f1-score   support\n",
            "\n",
            "           0       0.77      0.63      0.70       197\n",
            "           1       0.68      0.80      0.73       187\n",
            "\n",
            "    accuracy                           0.72       384\n",
            "   macro avg       0.72      0.72      0.71       384\n",
            "weighted avg       0.72      0.72      0.71       384\n",
            "\n"
          ]
        }
      ]
    },
    {
      "cell_type": "code",
      "source": [
        "classes = [0,1]\n",
        "cm = confusion_matrix(y_test, y_pred, labels=classes)\n",
        "sns.heatmap(cm, annot=True)\n",
        "plt.title(\"Confusion Matrix for Test Data\")\n",
        "plt.show()"
      ],
      "metadata": {
        "colab": {
          "base_uri": "https://localhost:8080/",
          "height": 281
        },
        "outputId": "e2cbc784-29ce-4d9e-9f9c-730a23b9bc69",
        "id": "IiVC6czbwA_o"
      },
      "execution_count": null,
      "outputs": [
        {
          "output_type": "display_data",
          "data": {
            "text/plain": [
              "<Figure size 432x288 with 2 Axes>"
            ],
            "image/png": "[encoded data removed]"
          },
          "metadata": {
            "needs_background": "light"
          }
        }
      ]
    },
    {
      "cell_type": "markdown",
      "source": [
        "### 4. K-Nearest Neighbors"
      ],
      "metadata": {
        "id": "1KOVRtB1y5S7"
      }
    },
    {
      "cell_type": "code",
      "source": [
        "from sklearn.neighbors import KNeighborsClassifier"
      ],
      "metadata": {
        "id": "V6UibHVBzPv6"
      },
      "execution_count": null,
      "outputs": []
    },
    {
      "cell_type": "code",
      "source": [
        "clf = KNeighborsClassifier(10)\n",
        "clf.fit(X_train, y_train)"
      ],
      "metadata": {
        "colab": {
          "base_uri": "https://localhost:8080/"
        },
        "id": "P48WG115zKnB",
        "outputId": "b95035c5-d862-4a61-da82-e6f2e75cc938"
      },
      "execution_count": null,
      "outputs": [
        {
          "output_type": "execute_result",
          "data": {
            "text/plain": [
              "KNeighborsClassifier(n_neighbors=10)"
            ]
          },
          "metadata": {},
          "execution_count": 56
        }
      ]
    },
    {
      "cell_type": "code",
      "source": [
        "y_pred = clf.predict(X_test)\n",
        "y_pred.shape"
      ],
      "metadata": {
        "colab": {
          "base_uri": "https://localhost:8080/"
        },
        "outputId": "62cc4b25-91a4-44da-db65-d17f6a3e9146",
        "id": "lAUzaYY50YT5"
      },
      "execution_count": null,
      "outputs": [
        {
          "output_type": "execute_result",
          "data": {
            "text/plain": [
              "(384,)"
            ]
          },
          "metadata": {},
          "execution_count": 57
        }
      ]
    },
    {
      "cell_type": "code",
      "source": [
        "my_classification_report(clf.predict(X_train), y_pred, y_train, y_test)"
      ],
      "metadata": {
        "colab": {
          "base_uri": "https://localhost:8080/"
        },
        "outputId": "3de1ea96-8a13-4657-ea4d-8f0f9b6bbc2f",
        "id": "RCM1An0A0YT6"
      },
      "execution_count": null,
      "outputs": [
        {
          "output_type": "stream",
          "name": "stdout",
          "text": [
            "Training : \n",
            "               precision    recall  f1-score   support\n",
            "\n",
            "           0       0.78      0.72      0.75       762\n",
            "           1       0.74      0.79      0.77       772\n",
            "\n",
            "    accuracy                           0.76      1534\n",
            "   macro avg       0.76      0.76      0.76      1534\n",
            "weighted avg       0.76      0.76      0.76      1534\n",
            "\n",
            "\n",
            "Testing : \n",
            "               precision    recall  f1-score   support\n",
            "\n",
            "           0       0.67      0.62      0.65       197\n",
            "           1       0.63      0.68      0.66       187\n",
            "\n",
            "    accuracy                           0.65       384\n",
            "   macro avg       0.65      0.65      0.65       384\n",
            "weighted avg       0.65      0.65      0.65       384\n",
            "\n"
          ]
        }
      ]
    },
    {
      "cell_type": "code",
      "source": [
        "classes = [0,1]\n",
        "cm = confusion_matrix(y_test, y_pred, labels=classes)\n",
        "sns.heatmap(cm, annot=True)\n",
        "plt.title(\"Confusion Matrix for Test Data\")\n",
        "plt.show()"
      ],
      "metadata": {
        "colab": {
          "base_uri": "https://localhost:8080/",
          "height": 281
        },
        "outputId": "f5d81079-e466-489c-83d2-b7d46fa5ab12",
        "id": "UZF7a3DJ0YT6"
      },
      "execution_count": null,
      "outputs": [
        {
          "output_type": "display_data",
          "data": {
            "text/plain": [
              "<Figure size 432x288 with 2 Axes>"
            ],
            "image/png": "[encoded data removed]"
          },
          "metadata": {
            "needs_background": "light"
          }
        }
      ]
    },
    {
      "cell_type": "markdown",
      "source": [
        "### 5. Support Vector Machines"
      ],
      "metadata": {
        "id": "GLV7nRfLxFVs"
      }
    },
    {
      "cell_type": "code",
      "source": [
        "from sklearn import svm"
      ],
      "metadata": {
        "id": "3GdGXgf7v8_H"
      },
      "execution_count": null,
      "outputs": []
    },
    {
      "cell_type": "code",
      "source": [
        "clf = svm.SVC(class_weight='balanced')\n",
        "clf.fit(X_train, y_train)"
      ],
      "metadata": {
        "colab": {
          "base_uri": "https://localhost:8080/"
        },
        "id": "sZAlRTMn04sI",
        "outputId": "bdf620c5-78c0-43ca-8197-e4e351dd6318"
      },
      "execution_count": null,
      "outputs": [
        {
          "output_type": "execute_result",
          "data": {
            "text/plain": [
              "SVC(class_weight='balanced')"
            ]
          },
          "metadata": {},
          "execution_count": 61
        }
      ]
    },
    {
      "cell_type": "code",
      "source": [
        "y_pred = clf.predict(X_test)\n",
        "y_pred.shape"
      ],
      "metadata": {
        "colab": {
          "base_uri": "https://localhost:8080/"
        },
        "outputId": "057b26f4-9cef-47ff-a0bb-408fb23cb51f",
        "id": "uJ9v0HEa1d5P"
      },
      "execution_count": null,
      "outputs": [
        {
          "output_type": "execute_result",
          "data": {
            "text/plain": [
              "(384,)"
            ]
          },
          "metadata": {},
          "execution_count": 62
        }
      ]
    },
    {
      "cell_type": "code",
      "source": [
        "my_classification_report(clf.predict(X_train), y_pred, y_train, y_test)"
      ],
      "metadata": {
        "colab": {
          "base_uri": "https://localhost:8080/"
        },
        "outputId": "ce4d8e9d-5bc3-44f6-a9e7-47d937250f39",
        "id": "AeaNMQ9X1d5Q"
      },
      "execution_count": null,
      "outputs": [
        {
          "output_type": "stream",
          "name": "stdout",
          "text": [
            "Training : \n",
            "               precision    recall  f1-score   support\n",
            "\n",
            "           0       0.91      0.87      0.89       762\n",
            "           1       0.88      0.92      0.90       772\n",
            "\n",
            "    accuracy                           0.89      1534\n",
            "   macro avg       0.89      0.89      0.89      1534\n",
            "weighted avg       0.89      0.89      0.89      1534\n",
            "\n",
            "\n",
            "Testing : \n",
            "               precision    recall  f1-score   support\n",
            "\n",
            "           0       0.73      0.78      0.75       197\n",
            "           1       0.75      0.70      0.72       187\n",
            "\n",
            "    accuracy                           0.74       384\n",
            "   macro avg       0.74      0.74      0.74       384\n",
            "weighted avg       0.74      0.74      0.74       384\n",
            "\n"
          ]
        }
      ]
    },
    {
      "cell_type": "code",
      "source": [
        "classes = [0,1]\n",
        "cm = confusion_matrix(y_test, y_pred, labels=classes)\n",
        "sns.heatmap(cm, annot=True)\n",
        "plt.title(\"Confusion Matrix for Test Data\")\n",
        "plt.show()"
      ],
      "metadata": {
        "colab": {
          "base_uri": "https://localhost:8080/",
          "height": 281
        },
        "outputId": "fb4e3e29-105f-4278-b237-428d4601c85c",
        "id": "ZXyObGpx1d5R"
      },
      "execution_count": null,
      "outputs": [
        {
          "output_type": "display_data",
          "data": {
            "text/plain": [
              "<Figure size 432x288 with 2 Axes>"
            ],
            "image/png": "[encoded data removed]"
          },
          "metadata": {
            "needs_background": "light"
          }
        }
      ]
    },
    {
      "cell_type": "markdown",
      "source": [
        "### 6. Random Forest"
      ],
      "metadata": {
        "id": "K4Nj1PEg2vWT"
      }
    },
    {
      "cell_type": "code",
      "source": [
        "from sklearn.ensemble import RandomForestClassifier"
      ],
      "metadata": {
        "id": "cT9V37U11FR_"
      },
      "execution_count": null,
      "outputs": []
    },
    {
      "cell_type": "code",
      "source": [
        "clf = RandomForestClassifier(max_depth=6)\n",
        "clf.fit(X_train, y_train)"
      ],
      "metadata": {
        "colab": {
          "base_uri": "https://localhost:8080/"
        },
        "id": "Sg3l5P4M27of",
        "outputId": "882290c8-d5a3-40ef-c9e8-272cca8c3ee7"
      },
      "execution_count": null,
      "outputs": [
        {
          "output_type": "execute_result",
          "data": {
            "text/plain": [
              "RandomForestClassifier(max_depth=6)"
            ]
          },
          "metadata": {},
          "execution_count": 66
        }
      ]
    },
    {
      "cell_type": "code",
      "source": [
        "y_pred = clf.predict(X_test)\n",
        "y_pred.shape"
      ],
      "metadata": {
        "colab": {
          "base_uri": "https://localhost:8080/"
        },
        "outputId": "b7caabbe-367c-49f8-f69b-990f5a8722f3",
        "id": "mEtCLeCQ6W7F"
      },
      "execution_count": null,
      "outputs": [
        {
          "output_type": "execute_result",
          "data": {
            "text/plain": [
              "(384,)"
            ]
          },
          "metadata": {},
          "execution_count": 67
        }
      ]
    },
    {
      "cell_type": "code",
      "source": [
        "my_classification_report(clf.predict(X_train), y_pred, y_train, y_test)"
      ],
      "metadata": {
        "colab": {
          "base_uri": "https://localhost:8080/"
        },
        "outputId": "28dfeb8c-039b-419e-9545-1a57c46db040",
        "id": "RUb2mUGV6W7I"
      },
      "execution_count": null,
      "outputs": [
        {
          "output_type": "stream",
          "name": "stdout",
          "text": [
            "Training : \n",
            "               precision    recall  f1-score   support\n",
            "\n",
            "           0       0.83      0.80      0.82       762\n",
            "           1       0.81      0.84      0.83       772\n",
            "\n",
            "    accuracy                           0.82      1534\n",
            "   macro avg       0.82      0.82      0.82      1534\n",
            "weighted avg       0.82      0.82      0.82      1534\n",
            "\n",
            "\n",
            "Testing : \n",
            "               precision    recall  f1-score   support\n",
            "\n",
            "           0       0.76      0.71      0.73       197\n",
            "           1       0.71      0.76      0.74       187\n",
            "\n",
            "    accuracy                           0.73       384\n",
            "   macro avg       0.74      0.74      0.73       384\n",
            "weighted avg       0.74      0.73      0.73       384\n",
            "\n"
          ]
        }
      ]
    },
    {
      "cell_type": "code",
      "source": [
        "classes = [0,1]\n",
        "cm = confusion_matrix(y_test, y_pred, labels=classes)\n",
        "sns.heatmap(cm, annot=True)\n",
        "plt.title(\"Confusion Matrix for Test Data\")\n",
        "plt.show()"
      ],
      "metadata": {
        "colab": {
          "base_uri": "https://localhost:8080/",
          "height": 281
        },
        "outputId": "87238973-15e3-4e55-e893-254a054de1bf",
        "id": "u2qqUYqi6W7I"
      },
      "execution_count": null,
      "outputs": [
        {
          "output_type": "display_data",
          "data": {
            "text/plain": [
              "<Figure size 432x288 with 2 Axes>"
            ],
            "image/png": "[encoded data removed]"
          },
          "metadata": {
            "needs_background": "light"
          }
        }
      ]
    },
    {
      "cell_type": "markdown",
      "source": [
        "In our case, Logistic Regression, SVM and Random Forest performs well enough with testing accuracies of 76 %."
      ],
      "metadata": {
        "id": "xkUCibUT8BZi"
      }
    },
    {
      "cell_type": "markdown",
      "source": [
        "# The End"
      ],
      "metadata": {
        "id": "YuZTcv_p9O7B"
      }
    }
  ]
}
